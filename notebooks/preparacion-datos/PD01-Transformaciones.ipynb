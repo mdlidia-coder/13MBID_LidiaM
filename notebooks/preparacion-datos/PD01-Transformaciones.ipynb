{
 "cells": [
  {
   "cell_type": "markdown",
   "metadata": {},
   "source": [
    "## Máster en Big Data y Data Science\n",
    "\n",
    "### Metodologías de gestión y diseño de proyectos de big data\n",
    "\n",
    "#### AP1 - Preparación de los datos\n",
    "\n",
    "---\n",
    "\n",
    "En esta libreta se realizan las transforamciones sobre los datasets del escenario en función \n",
    "de los resultados de la verificación de calidad de datos. \n",
    "\n",
    "---"
   ]
  },
  {
   "cell_type": "code",
   "execution_count": 42,
   "metadata": {},
   "outputs": [],
   "source": [
    "#Se importan las librerias a utilizar\n",
    "\n",
    "import pandas as pd"
   ]
  },
  {
   "cell_type": "markdown",
   "metadata": {},
   "source": [
    "----\n",
    "\n",
    "##### Lectura de los datasets"
   ]
  },
  {
   "cell_type": "code",
   "execution_count": 43,
   "metadata": {},
   "outputs": [
    {
     "data": {
      "text/html": [
       "<div>\n",
       "<style scoped>\n",
       "    .dataframe tbody tr th:only-of-type {\n",
       "        vertical-align: middle;\n",
       "    }\n",
       "\n",
       "    .dataframe tbody tr th {\n",
       "        vertical-align: top;\n",
       "    }\n",
       "\n",
       "    .dataframe thead th {\n",
       "        text-align: right;\n",
       "    }\n",
       "</style>\n",
       "<table border=\"1\" class=\"dataframe\">\n",
       "  <thead>\n",
       "    <tr style=\"text-align: right;\">\n",
       "      <th></th>\n",
       "      <th>id_cliente</th>\n",
       "      <th>edad</th>\n",
       "      <th>importe_solicitado</th>\n",
       "      <th>duracion_credito</th>\n",
       "      <th>antiguedad_empleado</th>\n",
       "      <th>situacion_vivienda</th>\n",
       "      <th>ingresos</th>\n",
       "      <th>objetivo_credito</th>\n",
       "      <th>pct_ingreso</th>\n",
       "      <th>tasa_interes</th>\n",
       "      <th>estado_credito</th>\n",
       "      <th>falta_pago</th>\n",
       "    </tr>\n",
       "  </thead>\n",
       "  <tbody>\n",
       "    <tr>\n",
       "      <th>0</th>\n",
       "      <td>713061558.0</td>\n",
       "      <td>22</td>\n",
       "      <td>35000</td>\n",
       "      <td>3</td>\n",
       "      <td>123.0</td>\n",
       "      <td>ALQUILER</td>\n",
       "      <td>59000</td>\n",
       "      <td>PERSONAL</td>\n",
       "      <td>0.59</td>\n",
       "      <td>16.02</td>\n",
       "      <td>1</td>\n",
       "      <td>Y</td>\n",
       "    </tr>\n",
       "  </tbody>\n",
       "</table>\n",
       "</div>"
      ],
      "text/plain": [
       "    id_cliente  edad  importe_solicitado  duracion_credito  \\\n",
       "0  713061558.0    22               35000                 3   \n",
       "\n",
       "   antiguedad_empleado situacion_vivienda  ingresos objetivo_credito  \\\n",
       "0                123.0           ALQUILER     59000         PERSONAL   \n",
       "\n",
       "   pct_ingreso  tasa_interes  estado_credito falta_pago  \n",
       "0         0.59         16.02               1          Y  "
      ]
     },
     "metadata": {},
     "output_type": "display_data"
    },
    {
     "data": {
      "text/html": [
       "<div>\n",
       "<style scoped>\n",
       "    .dataframe tbody tr th:only-of-type {\n",
       "        vertical-align: middle;\n",
       "    }\n",
       "\n",
       "    .dataframe tbody tr th {\n",
       "        vertical-align: top;\n",
       "    }\n",
       "\n",
       "    .dataframe thead th {\n",
       "        text-align: right;\n",
       "    }\n",
       "</style>\n",
       "<table border=\"1\" class=\"dataframe\">\n",
       "  <thead>\n",
       "    <tr style=\"text-align: right;\">\n",
       "      <th></th>\n",
       "      <th>id_cliente</th>\n",
       "      <th>antiguedad_cliente</th>\n",
       "      <th>estado_civil</th>\n",
       "      <th>estado_cliente</th>\n",
       "      <th>gastos_ult_12m</th>\n",
       "      <th>genero</th>\n",
       "      <th>limite_credito_tc</th>\n",
       "      <th>nivel_educativo</th>\n",
       "      <th>nivel_tarjeta</th>\n",
       "      <th>operaciones_ult_12m</th>\n",
       "      <th>personas_a_cargo</th>\n",
       "    </tr>\n",
       "  </thead>\n",
       "  <tbody>\n",
       "    <tr>\n",
       "      <th>0</th>\n",
       "      <td>713061558.0</td>\n",
       "      <td>36.0</td>\n",
       "      <td>CASADO</td>\n",
       "      <td>ACTIVO</td>\n",
       "      <td>1088.0</td>\n",
       "      <td>M</td>\n",
       "      <td>4010.0</td>\n",
       "      <td>UNIVERSITARIO_COMPLETO</td>\n",
       "      <td>Blue</td>\n",
       "      <td>24.0</td>\n",
       "      <td>2.0</td>\n",
       "    </tr>\n",
       "  </tbody>\n",
       "</table>\n",
       "</div>"
      ],
      "text/plain": [
       "    id_cliente  antiguedad_cliente estado_civil estado_cliente  \\\n",
       "0  713061558.0                36.0       CASADO         ACTIVO   \n",
       "\n",
       "   gastos_ult_12m genero  limite_credito_tc         nivel_educativo  \\\n",
       "0          1088.0      M             4010.0  UNIVERSITARIO_COMPLETO   \n",
       "\n",
       "  nivel_tarjeta  operaciones_ult_12m  personas_a_cargo  \n",
       "0          Blue                 24.0               2.0  "
      ]
     },
     "metadata": {},
     "output_type": "display_data"
    }
   ],
   "source": [
    "df_creditos = pd.read_csv(\"../../data/processed/datos_creditos_c.csv\", sep=\";\")\n",
    "display(df_creditos.head(1))\n",
    "\n",
    "df_tarjetas = pd.read_csv(\"../../data/processed/datos_tarjetas_c.csv\", sep=\";\")\n",
    "display(df_tarjetas.head(1))"
   ]
  },
  {
   "cell_type": "markdown",
   "metadata": {},
   "source": [
    "---\n",
    "#### Aplicación de transformaciones\n",
    "\n",
    "**Operaciones a realizar**\n",
    "\n",
    "1. Selección de columnas\n",
    "2. Filtrado de filas\n",
    "3. Construcción de atributos\n",
    "4. Integración de datasets\n",
    "5. Formateo definitivo\n"
   ]
  },
  {
   "cell_type": "markdown",
   "metadata": {},
   "source": [
    "----\n",
    "\n",
    "Selección de datos"
   ]
  },
  {
   "cell_type": "code",
   "execution_count": 24,
   "metadata": {},
   "outputs": [
    {
     "name": "stdout",
     "output_type": "stream",
     "text": [
      "Index(['id_cliente', 'antiguedad_cliente', 'estado_civil', 'estado_cliente',\n",
      "       'gastos_ult_12m', 'genero', 'limite_credito_tc', 'nivel_educativo',\n",
      "       'nivel_tarjeta', 'operaciones_ult_12m', 'personas_a_cargo'],\n",
      "      dtype='object')\n"
     ]
    }
   ],
   "source": [
    "print(df_tarjetas.columns)  # Muestra las columnas disponibles"
   ]
  },
  {
   "cell_type": "code",
   "execution_count": 25,
   "metadata": {},
   "outputs": [
    {
     "name": "stdout",
     "output_type": "stream",
     "text": [
      "Primeras filas de df_creditos:\n",
      "    id_cliente  edad  importe_solicitado  duracion_credito  \\\n",
      "0  713061558.0    22               35000                 3   \n",
      "1  768805383.0    21                1000                 2   \n",
      "2  818770008.0    25                5500                 3   \n",
      "3  713982108.0    23               35000                 2   \n",
      "4  710821833.0    24               35000                 4   \n",
      "\n",
      "   antiguedad_empleado situacion_vivienda  ingresos objetivo_credito  \\\n",
      "0                123.0           ALQUILER     59000         PERSONAL   \n",
      "1                  5.0             PROPIA      9600        EDUCACIÓN   \n",
      "2                  1.0           HIPOTECA      9600            SALUD   \n",
      "3                  4.0           ALQUILER     65500            SALUD   \n",
      "4                  8.0           ALQUILER     54400            SALUD   \n",
      "\n",
      "   pct_ingreso  tasa_interes  estado_credito falta_pago  \n",
      "0         0.59         16.02               1          Y  \n",
      "1         0.10         11.14               0          N  \n",
      "2         0.57         12.87               1          N  \n",
      "3         0.53         15.23               1          N  \n",
      "4         0.55         14.27               1          Y  \n",
      "Primeras filas de df_tarjetas:\n",
      "    id_cliente  antiguedad_cliente estado_civil estado_cliente  \\\n",
      "0  713061558.0                36.0       CASADO         ACTIVO   \n",
      "1  768805383.0                39.0       CASADO         ACTIVO   \n",
      "2  818770008.0                44.0      SOLTERO         ACTIVO   \n",
      "3  713982108.0                36.0       CASADO         ACTIVO   \n",
      "4  710821833.0                54.0       CASADO         ACTIVO   \n",
      "\n",
      "   gastos_ult_12m genero  limite_credito_tc         nivel_educativo  \\\n",
      "0          1088.0      M             4010.0  UNIVERSITARIO_COMPLETO   \n",
      "1          1144.0      M            12691.0     SECUNDARIO_COMPLETO   \n",
      "2          1291.0      F             8256.0  UNIVERSITARIO_COMPLETO   \n",
      "3          1887.0      M             3418.0  UNIVERSITARIO_COMPLETO   \n",
      "4          1314.0      M             9095.0             DESCONOCIDO   \n",
      "\n",
      "   operaciones_ult_12m  personas_a_cargo  \n",
      "0                 24.0               2.0  \n",
      "1                 42.0               3.0  \n",
      "2                 33.0               5.0  \n",
      "3                 20.0               3.0  \n",
      "4                 26.0               1.0  \n",
      "Filas antes del filtro: 10127\n",
      "Advertencia: La columna 'regla_pct_ingresos' no existe en df_creditos.\n",
      "Filas después del filtro: 10123\n"
     ]
    }
   ],
   "source": [
    "# Se establece qué columnas se eliminan\n",
    "col_eliminar_creditos = []  # No hay columnas definidas para eliminar\n",
    "col_eliminar_tarjetas = ['nivel_tarjeta']\n",
    "\n",
    "# Verificar qué columnas existen antes de eliminarlas\n",
    "col_existentes_creditos = [col for col in col_eliminar_creditos if col in df_creditos.columns]\n",
    "col_existentes_tarjetas = [col for col in col_eliminar_tarjetas if col in df_tarjetas.columns]\n",
    "\n",
    "# Se ejecuta la operación eliminando solo las columnas existentes\n",
    "df_creditos.drop(col_existentes_creditos, inplace=True, axis=1)\n",
    "df_tarjetas.drop(col_existentes_tarjetas, inplace=True, axis=1)\n",
    "\n",
    "# Mostrar las primeras filas para verificar cambios\n",
    "print(\"Primeras filas de df_creditos:\")\n",
    "print(df_creditos.head(5))\n",
    "\n",
    "print(\"Primeras filas de df_tarjetas:\")\n",
    "print(df_tarjetas.head(5))\n",
    "\n",
    "# Imprimir el número de filas antes de aplicar filtros\n",
    "print(f\"Filas antes del filtro: {df_creditos.shape[0]}\")\n",
    "\n",
    "# Validar si la columna 'edad' existe antes de aplicar el filtro\n",
    "if 'edad' in df_creditos.columns:\n",
    "    temp = df_creditos[df_creditos['edad'] < 90]  # Filtrar por edad\n",
    "else:\n",
    "    print(\"Advertencia: La columna 'edad' no existe en df_creditos.\")\n",
    "    temp = df_creditos.copy()  # No aplicar filtro si la columna no existe\n",
    "\n",
    "# Validar si la columna 'regla_pct_ingresos' existe antes de aplicar el filtro\n",
    "if 'regla_pct_ingresos' in temp.columns:\n",
    "    temp_c = temp[temp['regla_pct_ingresos'] == 'ok']  # Filtrar por regla de negocio\n",
    "else:\n",
    "    print(\"Advertencia: La columna 'regla_pct_ingresos' no existe en df_creditos.\")\n",
    "    temp_c = temp.copy()  # No aplicar filtro si la columna no existe\n",
    "\n",
    "# Imprimir el número de filas después de aplicar filtros\n",
    "print(f\"Filas después del filtro: {temp_c.shape[0]}\")\n"
   ]
  },
  {
   "cell_type": "code",
   "execution_count": 26,
   "metadata": {},
   "outputs": [
    {
     "name": "stdout",
     "output_type": "stream",
     "text": [
      "Vista del dataset de datos de créditos:\n"
     ]
    },
    {
     "data": {
      "text/html": [
       "<div>\n",
       "<style scoped>\n",
       "    .dataframe tbody tr th:only-of-type {\n",
       "        vertical-align: middle;\n",
       "    }\n",
       "\n",
       "    .dataframe tbody tr th {\n",
       "        vertical-align: top;\n",
       "    }\n",
       "\n",
       "    .dataframe thead th {\n",
       "        text-align: right;\n",
       "    }\n",
       "</style>\n",
       "<table border=\"1\" class=\"dataframe\">\n",
       "  <thead>\n",
       "    <tr style=\"text-align: right;\">\n",
       "      <th></th>\n",
       "      <th>id_cliente</th>\n",
       "      <th>edad</th>\n",
       "      <th>importe_solicitado</th>\n",
       "      <th>duracion_credito</th>\n",
       "      <th>antiguedad_empleado</th>\n",
       "      <th>situacion_vivienda</th>\n",
       "      <th>ingresos</th>\n",
       "      <th>objetivo_credito</th>\n",
       "      <th>pct_ingreso</th>\n",
       "      <th>tasa_interes</th>\n",
       "      <th>estado_credito</th>\n",
       "      <th>falta_pago</th>\n",
       "    </tr>\n",
       "  </thead>\n",
       "  <tbody>\n",
       "    <tr>\n",
       "      <th>0</th>\n",
       "      <td>713061558.0</td>\n",
       "      <td>22</td>\n",
       "      <td>35000</td>\n",
       "      <td>3</td>\n",
       "      <td>123.0</td>\n",
       "      <td>ALQUILER</td>\n",
       "      <td>59000</td>\n",
       "      <td>PERSONAL</td>\n",
       "      <td>0.59</td>\n",
       "      <td>16.02</td>\n",
       "      <td>1</td>\n",
       "      <td>Y</td>\n",
       "    </tr>\n",
       "  </tbody>\n",
       "</table>\n",
       "</div>"
      ],
      "text/plain": [
       "    id_cliente  edad  importe_solicitado  duracion_credito  \\\n",
       "0  713061558.0    22               35000                 3   \n",
       "\n",
       "   antiguedad_empleado situacion_vivienda  ingresos objetivo_credito  \\\n",
       "0                123.0           ALQUILER     59000         PERSONAL   \n",
       "\n",
       "   pct_ingreso  tasa_interes  estado_credito falta_pago  \n",
       "0         0.59         16.02               1          Y  "
      ]
     },
     "metadata": {},
     "output_type": "display_data"
    },
    {
     "name": "stdout",
     "output_type": "stream",
     "text": [
      "Vista del dataset de datos de tarjetas:\n"
     ]
    },
    {
     "data": {
      "text/html": [
       "<div>\n",
       "<style scoped>\n",
       "    .dataframe tbody tr th:only-of-type {\n",
       "        vertical-align: middle;\n",
       "    }\n",
       "\n",
       "    .dataframe tbody tr th {\n",
       "        vertical-align: top;\n",
       "    }\n",
       "\n",
       "    .dataframe thead th {\n",
       "        text-align: right;\n",
       "    }\n",
       "</style>\n",
       "<table border=\"1\" class=\"dataframe\">\n",
       "  <thead>\n",
       "    <tr style=\"text-align: right;\">\n",
       "      <th></th>\n",
       "      <th>id_cliente</th>\n",
       "      <th>antiguedad_cliente</th>\n",
       "      <th>estado_civil</th>\n",
       "      <th>estado_cliente</th>\n",
       "      <th>gastos_ult_12m</th>\n",
       "      <th>genero</th>\n",
       "      <th>limite_credito_tc</th>\n",
       "      <th>nivel_educativo</th>\n",
       "      <th>operaciones_ult_12m</th>\n",
       "      <th>personas_a_cargo</th>\n",
       "    </tr>\n",
       "  </thead>\n",
       "  <tbody>\n",
       "    <tr>\n",
       "      <th>0</th>\n",
       "      <td>713061558.0</td>\n",
       "      <td>36.0</td>\n",
       "      <td>CASADO</td>\n",
       "      <td>ACTIVO</td>\n",
       "      <td>1088.0</td>\n",
       "      <td>M</td>\n",
       "      <td>4010.0</td>\n",
       "      <td>UNIVERSITARIO_COMPLETO</td>\n",
       "      <td>24.0</td>\n",
       "      <td>2.0</td>\n",
       "    </tr>\n",
       "  </tbody>\n",
       "</table>\n",
       "</div>"
      ],
      "text/plain": [
       "    id_cliente  antiguedad_cliente estado_civil estado_cliente  \\\n",
       "0  713061558.0                36.0       CASADO         ACTIVO   \n",
       "\n",
       "   gastos_ult_12m genero  limite_credito_tc         nivel_educativo  \\\n",
       "0          1088.0      M             4010.0  UNIVERSITARIO_COMPLETO   \n",
       "\n",
       "   operaciones_ult_12m  personas_a_cargo  \n",
       "0                 24.0               2.0  "
      ]
     },
     "metadata": {},
     "output_type": "display_data"
    }
   ],
   "source": [
    "print(\"Vista del dataset de datos de créditos:\")\n",
    "display(df_creditos.head(1))\n",
    "\n",
    "print(\"Vista del dataset de datos de tarjetas:\")\n",
    "display(df_tarjetas.head(1))"
   ]
  },
  {
   "cell_type": "markdown",
   "metadata": {},
   "source": [
    "Limpieza de los datos (filtrado a nivel de filas)"
   ]
  },
  {
   "cell_type": "code",
   "execution_count": 7,
   "metadata": {},
   "outputs": [
    {
     "data": {
      "text/html": [
       "<div>\n",
       "<style scoped>\n",
       "    .dataframe tbody tr th:only-of-type {\n",
       "        vertical-align: middle;\n",
       "    }\n",
       "\n",
       "    .dataframe tbody tr th {\n",
       "        vertical-align: top;\n",
       "    }\n",
       "\n",
       "    .dataframe thead th {\n",
       "        text-align: right;\n",
       "    }\n",
       "</style>\n",
       "<table border=\"1\" class=\"dataframe\">\n",
       "  <thead>\n",
       "    <tr style=\"text-align: right;\">\n",
       "      <th></th>\n",
       "      <th>id_cliente</th>\n",
       "      <th>edad</th>\n",
       "      <th>importe_solicitado</th>\n",
       "      <th>duracion_credito</th>\n",
       "      <th>antiguedad_empleado</th>\n",
       "      <th>situacion_vivienda</th>\n",
       "      <th>ingresos</th>\n",
       "      <th>objetivo_credito</th>\n",
       "      <th>pct_ingreso</th>\n",
       "      <th>tasa_interes</th>\n",
       "      <th>estado_credito</th>\n",
       "      <th>falta_pago</th>\n",
       "      <th>regla_pct_ingresos</th>\n",
       "    </tr>\n",
       "  </thead>\n",
       "  <tbody>\n",
       "    <tr>\n",
       "      <th>0</th>\n",
       "      <td>713061558.0</td>\n",
       "      <td>22</td>\n",
       "      <td>35000</td>\n",
       "      <td>3</td>\n",
       "      <td>123.0</td>\n",
       "      <td>ALQUILER</td>\n",
       "      <td>59000</td>\n",
       "      <td>PERSONAL</td>\n",
       "      <td>0.59</td>\n",
       "      <td>16.02</td>\n",
       "      <td>1</td>\n",
       "      <td>Y</td>\n",
       "      <td>ok</td>\n",
       "    </tr>\n",
       "    <tr>\n",
       "      <th>1</th>\n",
       "      <td>768805383.0</td>\n",
       "      <td>21</td>\n",
       "      <td>1000</td>\n",
       "      <td>2</td>\n",
       "      <td>5.0</td>\n",
       "      <td>PROPIA</td>\n",
       "      <td>9600</td>\n",
       "      <td>EDUCACIÓN</td>\n",
       "      <td>0.10</td>\n",
       "      <td>11.14</td>\n",
       "      <td>0</td>\n",
       "      <td>N</td>\n",
       "      <td>ok</td>\n",
       "    </tr>\n",
       "    <tr>\n",
       "      <th>2</th>\n",
       "      <td>818770008.0</td>\n",
       "      <td>25</td>\n",
       "      <td>5500</td>\n",
       "      <td>3</td>\n",
       "      <td>1.0</td>\n",
       "      <td>HIPOTECA</td>\n",
       "      <td>9600</td>\n",
       "      <td>SALUD</td>\n",
       "      <td>0.57</td>\n",
       "      <td>12.87</td>\n",
       "      <td>1</td>\n",
       "      <td>N</td>\n",
       "      <td>err</td>\n",
       "    </tr>\n",
       "    <tr>\n",
       "      <th>3</th>\n",
       "      <td>713982108.0</td>\n",
       "      <td>23</td>\n",
       "      <td>35000</td>\n",
       "      <td>2</td>\n",
       "      <td>4.0</td>\n",
       "      <td>ALQUILER</td>\n",
       "      <td>65500</td>\n",
       "      <td>SALUD</td>\n",
       "      <td>0.53</td>\n",
       "      <td>15.23</td>\n",
       "      <td>1</td>\n",
       "      <td>N</td>\n",
       "      <td>ok</td>\n",
       "    </tr>\n",
       "    <tr>\n",
       "      <th>4</th>\n",
       "      <td>710821833.0</td>\n",
       "      <td>24</td>\n",
       "      <td>35000</td>\n",
       "      <td>4</td>\n",
       "      <td>8.0</td>\n",
       "      <td>ALQUILER</td>\n",
       "      <td>54400</td>\n",
       "      <td>SALUD</td>\n",
       "      <td>0.55</td>\n",
       "      <td>14.27</td>\n",
       "      <td>1</td>\n",
       "      <td>Y</td>\n",
       "      <td>ok</td>\n",
       "    </tr>\n",
       "  </tbody>\n",
       "</table>\n",
       "</div>"
      ],
      "text/plain": [
       "    id_cliente  edad  importe_solicitado  duracion_credito  \\\n",
       "0  713061558.0    22               35000                 3   \n",
       "1  768805383.0    21                1000                 2   \n",
       "2  818770008.0    25                5500                 3   \n",
       "3  713982108.0    23               35000                 2   \n",
       "4  710821833.0    24               35000                 4   \n",
       "\n",
       "   antiguedad_empleado situacion_vivienda  ingresos objetivo_credito  \\\n",
       "0                123.0           ALQUILER     59000         PERSONAL   \n",
       "1                  5.0             PROPIA      9600        EDUCACIÓN   \n",
       "2                  1.0           HIPOTECA      9600            SALUD   \n",
       "3                  4.0           ALQUILER     65500            SALUD   \n",
       "4                  8.0           ALQUILER     54400            SALUD   \n",
       "\n",
       "   pct_ingreso  tasa_interes  estado_credito falta_pago regla_pct_ingresos  \n",
       "0         0.59         16.02               1          Y                 ok  \n",
       "1         0.10         11.14               0          N                 ok  \n",
       "2         0.57         12.87               1          N                err  \n",
       "3         0.53         15.23               1          N                 ok  \n",
       "4         0.55         14.27               1          Y                 ok  "
      ]
     },
     "execution_count": 7,
     "metadata": {},
     "output_type": "execute_result"
    }
   ],
   "source": [
    "#Se puede definir una función para aplicar los cálculos\n",
    "def regla_pct_ingresos_credito(row):\n",
    "    pct_ingreso = row.pct_ingreso\n",
    "    ingresos = row.ingresos\n",
    "    \n",
    "    if pct_ingreso > 0.5 and ingresos <= 20000:\n",
    "        # Es un error, no cumple la regla definida\n",
    "        return 'err'\n",
    "    else:\n",
    "        return 'ok'\n",
    "\n",
    "\n",
    "# Se aplica la función para todos los elementos del dataset\n",
    "regla_pct_ingresos = df_creditos.apply(lambda row: regla_pct_ingresos_credito(row), axis=1).rename(\"regla_pct_ingresos\")\n",
    "\n",
    "# Se unen los resultados al dataset inicial\n",
    "df_creditos = pd.concat([df_creditos, regla_pct_ingresos], axis=1)\n",
    "df_creditos.head(5)  "
   ]
  },
  {
   "cell_type": "code",
   "execution_count": 8,
   "metadata": {},
   "outputs": [
    {
     "name": "stdout",
     "output_type": "stream",
     "text": [
      "Filas antes del filtro: 10127\n",
      "Filas después del filtro: 10108\n"
     ]
    }
   ],
   "source": [
    "# Se filtran las filas con algún error detectado\n",
    "print(f\"Filas antes del filtro: {df_creditos.shape[0]}\")\n",
    "\n",
    "temp = df_creditos[df_creditos['edad'] < 90] # 4\n",
    "\n",
    "# Otro filtro posible: por la regla de negocio agregada\n",
    "\n",
    "temp_c = temp[temp['regla_pct_ingresos'] == 'ok'] # 15\n",
    "\n",
    "print(f\"Filas después del filtro: {temp_c.shape[0]}\")"
   ]
  },
  {
   "cell_type": "markdown",
   "metadata": {},
   "source": [
    "Filtros de filas generados por la estudiante - CRÉDITOS:"
   ]
  },
  {
   "cell_type": "code",
   "execution_count": 9,
   "metadata": {},
   "outputs": [
    {
     "name": "stdout",
     "output_type": "stream",
     "text": [
      "count    10127.000000\n",
      "mean         2.995556\n",
      "std          0.817230\n",
      "min          2.000000\n",
      "25%          2.000000\n",
      "50%          3.000000\n",
      "75%          4.000000\n",
      "max          4.000000\n",
      "Name: duracion_credito, dtype: float64\n",
      "[3 2 4]\n",
      "id_cliente             float64\n",
      "edad                     int64\n",
      "importe_solicitado       int64\n",
      "duracion_credito         int64\n",
      "antiguedad_empleado    float64\n",
      "situacion_vivienda      object\n",
      "ingresos                 int64\n",
      "objetivo_credito        object\n",
      "pct_ingreso            float64\n",
      "tasa_interes           float64\n",
      "estado_credito           int64\n",
      "falta_pago              object\n",
      "regla_pct_ingresos      object\n",
      "dtype: object\n"
     ]
    }
   ],
   "source": [
    "print(df_creditos['duracion_credito'].describe())  # Estadísticas generales\n",
    "print(df_creditos['duracion_credito'].unique())   # Valores únicos\n",
    "print(df_creditos.dtypes)  # Tipos de datos"
   ]
  },
  {
   "cell_type": "code",
   "execution_count": 10,
   "metadata": {},
   "outputs": [
    {
     "name": "stdout",
     "output_type": "stream",
     "text": [
      "Filas después del filtro de duración del crédito: 6723\n",
      "    id_cliente  edad  importe_solicitado  duracion_credito  \\\n",
      "0  713061558.0    22               35000                 3   \n",
      "2  818770008.0    25                5500                 3   \n",
      "4  710821833.0    24               35000                 4   \n",
      "6  709106358.0    26               35000                 3   \n",
      "7  810347208.0    24               35000                 4   \n",
      "\n",
      "   antiguedad_empleado situacion_vivienda  ingresos objetivo_credito  \\\n",
      "0                123.0           ALQUILER     59000         PERSONAL   \n",
      "2                  1.0           HIPOTECA      9600            SALUD   \n",
      "4                  8.0           ALQUILER     54400            SALUD   \n",
      "6                  8.0           ALQUILER     77100        EDUCACIÓN   \n",
      "7                  5.0           ALQUILER     78956            SALUD   \n",
      "\n",
      "   pct_ingreso  tasa_interes  estado_credito falta_pago regla_pct_ingresos  \n",
      "0         0.59         16.02               1          Y                 ok  \n",
      "2         0.57         12.87               1          N                err  \n",
      "4         0.55         14.27               1          Y                 ok  \n",
      "6         0.45         12.42               1          N                 ok  \n",
      "7         0.44         11.11               1          N                 ok  \n"
     ]
    }
   ],
   "source": [
    "# Filtro 1: Duración del crédito\n",
    "df_creditos = df_creditos[df_creditos['duracion_credito'] >= 3]\n",
    "print(f\"Filas después del filtro de duración del crédito: {df_creditos.shape[0]}\")\n",
    "print(df_creditos.head())  # Tipos de datos"
   ]
  },
  {
   "cell_type": "markdown",
   "metadata": {},
   "source": [
    "Filtros de filas generados por la estudiante - TARJETAS:"
   ]
  },
  {
   "cell_type": "code",
   "execution_count": 11,
   "metadata": {},
   "outputs": [
    {
     "name": "stdout",
     "output_type": "stream",
     "text": [
      "count    10127.000000\n",
      "mean      8631.953698\n",
      "std       9088.776650\n",
      "min       1438.300000\n",
      "25%       2555.000000\n",
      "50%       4549.000000\n",
      "75%      11067.500000\n",
      "max      34516.000000\n",
      "Name: limite_credito_tc, dtype: float64\n",
      "[ 4010. 12691.  8256. ...  5409. 10388. 14657.]\n",
      "id_cliente             float64\n",
      "antiguedad_cliente     float64\n",
      "estado_civil            object\n",
      "estado_cliente          object\n",
      "gastos_ult_12m         float64\n",
      "genero                  object\n",
      "limite_credito_tc      float64\n",
      "nivel_educativo         object\n",
      "operaciones_ult_12m    float64\n",
      "personas_a_cargo       float64\n",
      "dtype: object\n"
     ]
    }
   ],
   "source": [
    "# 1. Filtro por limite_credito_tc (Eliminar tarjetas con límite menor a 5,000)\n",
    "print(df_tarjetas['limite_credito_tc'].describe())  # Estadísticas generales\n",
    "print(df_tarjetas['limite_credito_tc'].unique())   # Valores únicos\n",
    "print(df_tarjetas.dtypes)  # Tipos de datos"
   ]
  },
  {
   "cell_type": "code",
   "execution_count": 12,
   "metadata": {},
   "outputs": [
    {
     "name": "stdout",
     "output_type": "stream",
     "text": [
      "Filas después del filtro de límite de crédito: 6688\n"
     ]
    }
   ],
   "source": [
    "df_tarjetas = df_tarjetas[df_tarjetas['limite_credito_tc'] >= 3000]\n",
    "print(f\"Filas después del filtro de límite de crédito: {df_tarjetas.shape[0]}\")"
   ]
  },
  {
   "cell_type": "code",
   "execution_count": 13,
   "metadata": {},
   "outputs": [
    {
     "name": "stdout",
     "output_type": "stream",
     "text": [
      "['ACTIVO' 'PASIVO']\n",
      "estado_cliente\n",
      "ACTIVO    5667\n",
      "PASIVO    1021\n",
      "Name: count, dtype: int64\n",
      "id_cliente             float64\n",
      "antiguedad_cliente     float64\n",
      "estado_civil            object\n",
      "estado_cliente          object\n",
      "gastos_ult_12m         float64\n",
      "genero                  object\n",
      "limite_credito_tc      float64\n",
      "nivel_educativo         object\n",
      "operaciones_ult_12m    float64\n",
      "personas_a_cargo       float64\n",
      "dtype: object\n"
     ]
    }
   ],
   "source": [
    "# 2. Filtro por estado_cliente (Eliminar tarjetas de clientes inactivos)\n",
    "print(df_tarjetas['estado_cliente'].unique())  # Verifica los estados posibles\n",
    "print(df_tarjetas['estado_cliente'].value_counts())  # Ver distribución de valores\n",
    "print(df_tarjetas.dtypes)  # Verificar tipo de dato\n",
    "\n"
   ]
  },
  {
   "cell_type": "code",
   "execution_count": 14,
   "metadata": {},
   "outputs": [
    {
     "name": "stdout",
     "output_type": "stream",
     "text": [
      "Filas después del filtro de estado del cliente: 5667\n"
     ]
    }
   ],
   "source": [
    "df_tarjetas = df_tarjetas[df_tarjetas['estado_cliente'] == 'ACTIVO']\n",
    "print(f\"Filas después del filtro de estado del cliente: {df_tarjetas.shape[0]}\")"
   ]
  },
  {
   "cell_type": "code",
   "execution_count": 15,
   "metadata": {},
   "outputs": [
    {
     "name": "stdout",
     "output_type": "stream",
     "text": [
      "count    5667.000000\n",
      "mean       69.039351\n",
      "std        25.027137\n",
      "min        11.000000\n",
      "25%        51.000000\n",
      "50%        70.000000\n",
      "75%        84.000000\n",
      "max       139.000000\n",
      "Name: operaciones_ult_12m, dtype: float64\n",
      "[ 24.  42.  33.  20.  26.  28.  31.  36.  32.  17.  27.  21.  30.  18.\n",
      "  22.  23.  40.  43.  38.  37.  35.  29.  25.  41.  15.  57.  14.  34.\n",
      "  19.  47.  13.  16.  39.  50.  52.  48.  49.  44.  55.  53.  11.  45.\n",
      "  54.  51.  63.  46.  58.  59.  60.  61.  78.  64.  65.  67.  56.  71.\n",
      "  75.  69.  76.  74.  62.  66.  84.  82.  88.  68.  86.  72.  79.  80.\n",
      "  73.  85.  70.  83.  91.  87.  77.  81. 103.  93.  96.  92.  89.  90.\n",
      "  94. 100. 102.  98.  95.  97. 101. 104. 105. 106.  99. 107. 118. 108.\n",
      " 109. 122. 113. 112. 127. 114. 124. 110. 120. 125. 121. 117. 111. 126.\n",
      " 134. 116. 119. 129. 131. 115. 128. 139. 123. 130. 138. 132.]\n",
      "id_cliente             float64\n",
      "antiguedad_cliente     float64\n",
      "estado_civil            object\n",
      "estado_cliente          object\n",
      "gastos_ult_12m         float64\n",
      "genero                  object\n",
      "limite_credito_tc      float64\n",
      "nivel_educativo         object\n",
      "operaciones_ult_12m    float64\n",
      "personas_a_cargo       float64\n",
      "dtype: object\n"
     ]
    }
   ],
   "source": [
    "# 3. Filtro por operaciones_ult_12m (Eliminar tarjetas con menos de 10 operaciones en el último año)\n",
    "print(df_tarjetas['operaciones_ult_12m'].describe())  # Estadísticas generales\n",
    "print(df_tarjetas['operaciones_ult_12m'].unique())   # Valores únicos\n",
    "print(df_tarjetas.dtypes)  # Tipos de datos\n"
   ]
  },
  {
   "cell_type": "code",
   "execution_count": 16,
   "metadata": {},
   "outputs": [
    {
     "name": "stdout",
     "output_type": "stream",
     "text": [
      "Filas después del filtro de operaciones en el último año: 4295\n"
     ]
    }
   ],
   "source": [
    "df_tarjetas = df_tarjetas[df_tarjetas['operaciones_ult_12m'] >= 50]\n",
    "print(f\"Filas después del filtro de operaciones en el último año: {df_tarjetas.shape[0]}\")\n"
   ]
  },
  {
   "cell_type": "markdown",
   "metadata": {},
   "source": [
    "Integración de datos"
   ]
  },
  {
   "cell_type": "code",
   "execution_count": 44,
   "metadata": {},
   "outputs": [
    {
     "name": "stdout",
     "output_type": "stream",
     "text": [
      "Filas del dataset integrado con los filtros realizados: 10123\n"
     ]
    }
   ],
   "source": [
    "df_integrado = pd.merge(temp_c, df_tarjetas, on='id_cliente', how='inner')\n",
    "coincidencias = df_integrado.shape[0]\n",
    "\n",
    "print(f\"Filas del dataset integrado con los filtros realizados: {coincidencias}\")"
   ]
  },
  {
   "cell_type": "code",
   "execution_count": 45,
   "metadata": {},
   "outputs": [
    {
     "name": "stdout",
     "output_type": "stream",
     "text": [
      "Cantidad de columnas del dataset integrado: 22\n"
     ]
    }
   ],
   "source": [
    "print(f\"Cantidad de columnas del dataset integrado: {df_integrado.shape[1]}\")"
   ]
  },
  {
   "cell_type": "code",
   "execution_count": 46,
   "metadata": {},
   "outputs": [
    {
     "data": {
      "text/html": [
       "<div>\n",
       "<style scoped>\n",
       "    .dataframe tbody tr th:only-of-type {\n",
       "        vertical-align: middle;\n",
       "    }\n",
       "\n",
       "    .dataframe tbody tr th {\n",
       "        vertical-align: top;\n",
       "    }\n",
       "\n",
       "    .dataframe thead th {\n",
       "        text-align: right;\n",
       "    }\n",
       "</style>\n",
       "<table border=\"1\" class=\"dataframe\">\n",
       "  <thead>\n",
       "    <tr style=\"text-align: right;\">\n",
       "      <th></th>\n",
       "      <th>id_cliente</th>\n",
       "      <th>edad</th>\n",
       "      <th>importe_solicitado</th>\n",
       "      <th>duracion_credito</th>\n",
       "      <th>antiguedad_empleado</th>\n",
       "      <th>situacion_vivienda</th>\n",
       "      <th>ingresos</th>\n",
       "      <th>objetivo_credito</th>\n",
       "      <th>pct_ingreso</th>\n",
       "      <th>tasa_interes</th>\n",
       "      <th>...</th>\n",
       "      <th>antiguedad_cliente</th>\n",
       "      <th>estado_civil</th>\n",
       "      <th>estado_cliente</th>\n",
       "      <th>gastos_ult_12m</th>\n",
       "      <th>genero</th>\n",
       "      <th>limite_credito_tc</th>\n",
       "      <th>nivel_educativo</th>\n",
       "      <th>nivel_tarjeta</th>\n",
       "      <th>operaciones_ult_12m</th>\n",
       "      <th>personas_a_cargo</th>\n",
       "    </tr>\n",
       "  </thead>\n",
       "  <tbody>\n",
       "    <tr>\n",
       "      <th>0</th>\n",
       "      <td>713061558.0</td>\n",
       "      <td>22</td>\n",
       "      <td>35000</td>\n",
       "      <td>3</td>\n",
       "      <td>123.0</td>\n",
       "      <td>ALQUILER</td>\n",
       "      <td>59000</td>\n",
       "      <td>PERSONAL</td>\n",
       "      <td>0.59</td>\n",
       "      <td>16.02</td>\n",
       "      <td>...</td>\n",
       "      <td>36.0</td>\n",
       "      <td>CASADO</td>\n",
       "      <td>ACTIVO</td>\n",
       "      <td>1088.0</td>\n",
       "      <td>M</td>\n",
       "      <td>4010.0</td>\n",
       "      <td>UNIVERSITARIO_COMPLETO</td>\n",
       "      <td>Blue</td>\n",
       "      <td>24.0</td>\n",
       "      <td>2.0</td>\n",
       "    </tr>\n",
       "  </tbody>\n",
       "</table>\n",
       "<p>1 rows × 22 columns</p>\n",
       "</div>"
      ],
      "text/plain": [
       "    id_cliente  edad  importe_solicitado  duracion_credito  \\\n",
       "0  713061558.0    22               35000                 3   \n",
       "\n",
       "   antiguedad_empleado situacion_vivienda  ingresos objetivo_credito  \\\n",
       "0                123.0           ALQUILER     59000         PERSONAL   \n",
       "\n",
       "   pct_ingreso  tasa_interes  ...  antiguedad_cliente estado_civil  \\\n",
       "0         0.59         16.02  ...                36.0       CASADO   \n",
       "\n",
       "   estado_cliente gastos_ult_12m genero  limite_credito_tc  \\\n",
       "0          ACTIVO         1088.0      M             4010.0   \n",
       "\n",
       "          nivel_educativo  nivel_tarjeta operaciones_ult_12m personas_a_cargo  \n",
       "0  UNIVERSITARIO_COMPLETO           Blue                24.0              2.0  \n",
       "\n",
       "[1 rows x 22 columns]"
      ]
     },
     "execution_count": 46,
     "metadata": {},
     "output_type": "execute_result"
    }
   ],
   "source": [
    "df_integrado.head(1)"
   ]
  },
  {
   "cell_type": "markdown",
   "metadata": {},
   "source": [
    "##### Modificaciones para le proceso de clusterización\n",
    "Se resguardan los datos apra aplicar otras transformaciones rewqueridas por las técnicas."
   ]
  },
  {
   "cell_type": "code",
   "execution_count": 47,
   "metadata": {},
   "outputs": [
    {
     "data": {
      "text/html": [
       "<div>\n",
       "<style scoped>\n",
       "    .dataframe tbody tr th:only-of-type {\n",
       "        vertical-align: middle;\n",
       "    }\n",
       "\n",
       "    .dataframe tbody tr th {\n",
       "        vertical-align: top;\n",
       "    }\n",
       "\n",
       "    .dataframe thead th {\n",
       "        text-align: right;\n",
       "    }\n",
       "</style>\n",
       "<table border=\"1\" class=\"dataframe\">\n",
       "  <thead>\n",
       "    <tr style=\"text-align: right;\">\n",
       "      <th></th>\n",
       "      <th>id_cliente</th>\n",
       "      <th>edad</th>\n",
       "      <th>importe_solicitado</th>\n",
       "      <th>duracion_credito</th>\n",
       "      <th>antiguedad_empleado</th>\n",
       "      <th>situacion_vivienda</th>\n",
       "      <th>ingresos</th>\n",
       "      <th>objetivo_credito</th>\n",
       "      <th>pct_ingreso</th>\n",
       "      <th>tasa_interes</th>\n",
       "      <th>...</th>\n",
       "      <th>antiguedad_cliente</th>\n",
       "      <th>estado_civil</th>\n",
       "      <th>estado_cliente</th>\n",
       "      <th>gastos_ult_12m</th>\n",
       "      <th>genero</th>\n",
       "      <th>limite_credito_tc</th>\n",
       "      <th>nivel_educativo</th>\n",
       "      <th>nivel_tarjeta</th>\n",
       "      <th>operaciones_ult_12m</th>\n",
       "      <th>personas_a_cargo</th>\n",
       "    </tr>\n",
       "  </thead>\n",
       "  <tbody>\n",
       "    <tr>\n",
       "      <th>0</th>\n",
       "      <td>713061558.0</td>\n",
       "      <td>22</td>\n",
       "      <td>35000</td>\n",
       "      <td>3</td>\n",
       "      <td>123.0</td>\n",
       "      <td>ALQUILER</td>\n",
       "      <td>59000</td>\n",
       "      <td>PERSONAL</td>\n",
       "      <td>0.59</td>\n",
       "      <td>16.02</td>\n",
       "      <td>...</td>\n",
       "      <td>36.0</td>\n",
       "      <td>CASADO</td>\n",
       "      <td>ACTIVO</td>\n",
       "      <td>1088.0</td>\n",
       "      <td>M</td>\n",
       "      <td>4010.0</td>\n",
       "      <td>UNIVERSITARIO_COMPLETO</td>\n",
       "      <td>Blue</td>\n",
       "      <td>24.0</td>\n",
       "      <td>2.0</td>\n",
       "    </tr>\n",
       "  </tbody>\n",
       "</table>\n",
       "<p>1 rows × 22 columns</p>\n",
       "</div>"
      ],
      "text/plain": [
       "    id_cliente  edad  importe_solicitado  duracion_credito  \\\n",
       "0  713061558.0    22               35000                 3   \n",
       "\n",
       "   antiguedad_empleado situacion_vivienda  ingresos objetivo_credito  \\\n",
       "0                123.0           ALQUILER     59000         PERSONAL   \n",
       "\n",
       "   pct_ingreso  tasa_interes  ...  antiguedad_cliente estado_civil  \\\n",
       "0         0.59         16.02  ...                36.0       CASADO   \n",
       "\n",
       "   estado_cliente gastos_ult_12m genero  limite_credito_tc  \\\n",
       "0          ACTIVO         1088.0      M             4010.0   \n",
       "\n",
       "          nivel_educativo  nivel_tarjeta operaciones_ult_12m personas_a_cargo  \n",
       "0  UNIVERSITARIO_COMPLETO           Blue                24.0              2.0  \n",
       "\n",
       "[1 rows x 22 columns]"
      ]
     },
     "execution_count": 47,
     "metadata": {},
     "output_type": "execute_result"
    }
   ],
   "source": [
    "df_integrado_c = df_integrado.copy()\n",
    "df_integrado_c.head(1)"
   ]
  },
  {
   "cell_type": "markdown",
   "metadata": {},
   "source": [
    "#### Transformación de atributos\n",
    "\n",
    "Atributos nominales que se modifican los valores"
   ]
  },
  {
   "cell_type": "code",
   "execution_count": 71,
   "metadata": {},
   "outputs": [],
   "source": [
    "# Columna: estado_civil\n",
    "cambios_estado_civil = {\n",
    "    'CASADO' : 'C',\n",
    "    'SOLTERO' : 'S',\n",
    "    'DESCONOCIDO' : 'N',\n",
    "    'DIVORCIADO' : 'D',\n",
    "}\n",
    "\n",
    "estado_civil_N = df_integrado.loc[:, ('estado_civil')].map(cambios_estado_civil).rename('estado_civil_N')\n",
    "\n",
    "# Columna: estado_credito\n",
    "cambios_estado_credito = {\n",
    "    0: 'P',\n",
    "    1 : 'C',\n",
    "}\n",
    "\n",
    "estado_credito_N = df_integrado.loc[:, ('estado_credito')].map(cambios_estado_credito).rename('estado_credito_N')\n",
    "\n",
    "# Sobre este resultado será necesario eliminar las columnas auxiliares"
   ]
  },
  {
   "cell_type": "markdown",
   "metadata": {},
   "source": [
    "Atributos numéricos que se discretizan"
   ]
  },
  {
   "cell_type": "code",
   "execution_count": 72,
   "metadata": {},
   "outputs": [
    {
     "data": {
      "text/plain": [
       "count    4143.000000\n",
       "mean        3.989138\n",
       "std         2.851826\n",
       "min         0.000000\n",
       "25%         2.000000\n",
       "50%         4.000000\n",
       "75%         6.000000\n",
       "max        11.000000\n",
       "Name: antiguedad_empleado, dtype: float64"
      ]
     },
     "execution_count": 72,
     "metadata": {},
     "output_type": "execute_result"
    }
   ],
   "source": [
    "df_integrado['antiguedad_empleado'].describe()"
   ]
  },
  {
   "cell_type": "code",
   "execution_count": 73,
   "metadata": {},
   "outputs": [
    {
     "data": {
      "text/plain": [
       "operaciones_ult_12m\n",
       "50_a_75      1915\n",
       "75_a_100     1705\n",
       "mayor_100     671\n",
       "menor_15        0\n",
       "15_a_30         0\n",
       "30_a_50         0\n",
       "Name: count, dtype: int64"
      ]
     },
     "execution_count": 73,
     "metadata": {},
     "output_type": "execute_result"
    }
   ],
   "source": [
    "# Antiguedad del empleado\n",
    "# Asignamos etiquetas para pasarlos a una forma nominal\n",
    "\n",
    "etiquetas_a_e = ['menor_5', '5_a_10', 'mayor_10']\n",
    "rangos_a_e = [0, 4, 10, 50]\n",
    "valor_para_nan = 'NA'\n",
    "antiguedad_empleados_N = pd.cut(df_integrado['antiguedad_empleado'], \n",
    "                                bins=rangos_a_e, \n",
    "                                labels=etiquetas_a_e,\n",
    "                                right=False).cat.add_categories(valor_para_nan).fillna(valor_para_nan)\n",
    "\n",
    "antiguedad_empleados_N.value_counts()\n",
    "\n",
    "# edad\n",
    "\n",
    "etiquetas_e = ['menor_25', '25_a_30']\n",
    "rangos_e = [0, 24, 50]\n",
    "edad_N = pd.cut(df_integrado['edad'], \n",
    "                                bins=rangos_e, \n",
    "                                labels=etiquetas_e)\n",
    "\n",
    "edad_N.value_counts()\n",
    "\n",
    "# pct_ingreso\n",
    "\n",
    "etiquetas_p_i = ['hasta_20', '20_a_40', '40_a_60', 'mayor_60']\n",
    "rangos_p_i = [0, 0.19, 0.39, 0.60, 0.99]\n",
    "pct_ingreso_N = pd.cut(df_integrado['pct_ingreso'], \n",
    "                                bins=rangos_p_i, \n",
    "                                labels=etiquetas_p_i)\n",
    "\n",
    "pct_ingreso_N.value_counts()\n",
    "\n",
    "# ingresos\n",
    "\n",
    "etiquetas_i = ['hasta_20k', '20k_a_50k', '50k_a_100k', 'mayor_100k']\n",
    "rangos_i = [0, 19999, 49999, 99999, 999999]\n",
    "ingresos_N = pd.cut(df_integrado['ingresos'], \n",
    "                                bins=rangos_i, \n",
    "                                labels=etiquetas_i)\n",
    "\n",
    "ingresos_N.value_counts()\n",
    "\n",
    "# tasa_interes\n",
    "\n",
    "etiquetas_t_i = ['hasta_7p', '7p_a_15p', '15p_a_20p', 'mayor_20p']\n",
    "rangos_t_i = [0, 6.99, 14.99, 19.99, 100]\n",
    "tasa_interes_N = pd.cut(df_integrado['tasa_interes'], \n",
    "                                bins=rangos_t_i, \n",
    "                                labels=etiquetas_t_i)\n",
    "\n",
    "tasa_interes_N.value_counts()\n",
    "\n",
    "# antiguedad_cliente\n",
    "\n",
    "etiquetas_a_c = ['menor_2y', '2y_a_4y', 'mayor_4y']\n",
    "rangos_a_c = [0, 24, 48, 100]\n",
    "antiguedad_cliente_N = pd.cut(df_integrado['antiguedad_cliente'], \n",
    "                                bins=rangos_a_c, \n",
    "                                labels=etiquetas_a_c)\n",
    "\n",
    "antiguedad_cliente_N.value_counts()\n",
    "\n",
    "# limite_credito_tc\n",
    "\n",
    "etiquetas_l_tc = ['menor_3k', '3k_a_5k', '5k_a_10k', 'mayor_10k']\n",
    "rangos_l_tc = [0, 2999, 4999, 9999, 100000]\n",
    "limite_credito_tc_N = pd.cut(df_integrado['limite_credito_tc'], \n",
    "                                bins=rangos_l_tc, \n",
    "                                labels=etiquetas_l_tc)\n",
    "\n",
    "limite_credito_tc_N.value_counts()\n",
    "\n",
    "# gastos_ult_12m\n",
    "\n",
    "etiquetas_g_u12 = ['menor_1k', '2k_a_4k', '4k_a_6k', '6k_a_8k', '8k_a_10k', 'mayor_10k']\n",
    "rangos_g_u12 = [0, 999, 3999, 5999, 7999, 9999, 100000]\n",
    "gastos_ult_12m_N = pd.cut(df_integrado['gastos_ult_12m'], \n",
    "                                bins=rangos_g_u12, \n",
    "                                labels=etiquetas_g_u12)\n",
    "\n",
    "gastos_ult_12m_N.value_counts()\n",
    "\n",
    "# operaciones_ult_12m\n",
    "\n",
    "etiquetas_o_u12 = ['menor_15', '15_a_30', '30_a_50', '50_a_75', '75_a_100', 'mayor_100']\n",
    "rangos_o_u12 = [0, 14, 29, 49, 74, 99, 1000]\n",
    "operaciones_ult_12m_N = pd.cut(df_integrado['operaciones_ult_12m'], \n",
    "                                bins=rangos_o_u12, \n",
    "                                labels=etiquetas_o_u12)\n",
    "\n",
    "operaciones_ult_12m_N.value_counts()"
   ]
  },
  {
   "cell_type": "code",
   "execution_count": 74,
   "metadata": {},
   "outputs": [
    {
     "data": {
      "text/plain": [
       "Index(['id_cliente', 'edad', 'importe_solicitado', 'duracion_credito',\n",
       "       'antiguedad_empleado', 'situacion_vivienda', 'ingresos',\n",
       "       'objetivo_credito', 'pct_ingreso', 'tasa_interes', 'estado_credito',\n",
       "       'falta_pago', 'regla_pct_ingresos', 'antiguedad_cliente',\n",
       "       'estado_civil', 'estado_cliente', 'gastos_ult_12m', 'genero',\n",
       "       'limite_credito_tc', 'nivel_educativo', 'operaciones_ult_12m',\n",
       "       'personas_a_cargo'],\n",
       "      dtype='object')"
      ]
     },
     "execution_count": 74,
     "metadata": {},
     "output_type": "execute_result"
    }
   ],
   "source": [
    "df_integrado.columns"
   ]
  },
  {
   "cell_type": "code",
   "execution_count": 75,
   "metadata": {},
   "outputs": [
    {
     "name": "stdout",
     "output_type": "stream",
     "text": [
      "Index(['id_cliente', 'edad', 'importe_solicitado', 'duracion_credito',\n",
      "       'antiguedad_empleado', 'situacion_vivienda', 'ingresos',\n",
      "       'objetivo_credito', 'pct_ingreso', 'tasa_interes', 'estado_credito',\n",
      "       'falta_pago', 'regla_pct_ingresos', 'antiguedad_cliente',\n",
      "       'estado_civil', 'estado_cliente', 'gastos_ult_12m', 'genero',\n",
      "       'limite_credito_tc', 'nivel_educativo', 'operaciones_ult_12m',\n",
      "       'personas_a_cargo'],\n",
      "      dtype='object')\n"
     ]
    }
   ],
   "source": [
    "print(df_integrado.columns)\n"
   ]
  },
  {
   "cell_type": "code",
   "execution_count": 76,
   "metadata": {},
   "outputs": [
    {
     "data": {
      "text/html": [
       "<div>\n",
       "<style scoped>\n",
       "    .dataframe tbody tr th:only-of-type {\n",
       "        vertical-align: middle;\n",
       "    }\n",
       "\n",
       "    .dataframe tbody tr th {\n",
       "        vertical-align: top;\n",
       "    }\n",
       "\n",
       "    .dataframe thead th {\n",
       "        text-align: right;\n",
       "    }\n",
       "</style>\n",
       "<table border=\"1\" class=\"dataframe\">\n",
       "  <thead>\n",
       "    <tr style=\"text-align: right;\">\n",
       "      <th></th>\n",
       "      <th>operaciones_ult_12m</th>\n",
       "      <th>gastos_ult_12m</th>\n",
       "      <th>limite_credito_tc</th>\n",
       "      <th>antiguedad_cliente</th>\n",
       "      <th>tasa_interes</th>\n",
       "      <th>ingresos</th>\n",
       "      <th>pct_ingreso</th>\n",
       "      <th>antiguedad_empleado</th>\n",
       "      <th>edad</th>\n",
       "      <th>estado_civil_N</th>\n",
       "      <th>estado_credito_N</th>\n",
       "      <th>importe_solicitado</th>\n",
       "      <th>duracion_credito</th>\n",
       "      <th>situacion_vivienda</th>\n",
       "      <th>objetivo_credito</th>\n",
       "      <th>falta_pago</th>\n",
       "      <th>estado_cliente</th>\n",
       "      <th>genero</th>\n",
       "      <th>nivel_educativo</th>\n",
       "      <th>personas_a_cargo</th>\n",
       "    </tr>\n",
       "  </thead>\n",
       "  <tbody>\n",
       "    <tr>\n",
       "      <th>0</th>\n",
       "      <td>50_a_75</td>\n",
       "      <td>2k_a_4k</td>\n",
       "      <td>5k_a_10k</td>\n",
       "      <td>2y_a_4y</td>\n",
       "      <td>7p_a_15p</td>\n",
       "      <td>hasta_20k</td>\n",
       "      <td>20_a_40</td>\n",
       "      <td>menor_5</td>\n",
       "      <td>menor_25</td>\n",
       "      <td>S</td>\n",
       "      <td>C</td>\n",
       "      <td>4200</td>\n",
       "      <td>4</td>\n",
       "      <td>PROPIA</td>\n",
       "      <td>PERSONAL</td>\n",
       "      <td>Y</td>\n",
       "      <td>ACTIVO</td>\n",
       "      <td>F</td>\n",
       "      <td>UNIVERSITARIO_INCOMPLETO</td>\n",
       "      <td>3.0</td>\n",
       "    </tr>\n",
       "    <tr>\n",
       "      <th>1</th>\n",
       "      <td>50_a_75</td>\n",
       "      <td>2k_a_4k</td>\n",
       "      <td>mayor_10k</td>\n",
       "      <td>2y_a_4y</td>\n",
       "      <td>15p_a_20p</td>\n",
       "      <td>mayor_100k</td>\n",
       "      <td>hasta_20</td>\n",
       "      <td>5_a_10</td>\n",
       "      <td>25_a_30</td>\n",
       "      <td>C</td>\n",
       "      <td>P</td>\n",
       "      <td>18000</td>\n",
       "      <td>3</td>\n",
       "      <td>ALQUILER</td>\n",
       "      <td>EDUCACIÓN</td>\n",
       "      <td>N</td>\n",
       "      <td>ACTIVO</td>\n",
       "      <td>M</td>\n",
       "      <td>UNIVERSITARIO_COMPLETO</td>\n",
       "      <td>3.0</td>\n",
       "    </tr>\n",
       "    <tr>\n",
       "      <th>2</th>\n",
       "      <td>50_a_75</td>\n",
       "      <td>2k_a_4k</td>\n",
       "      <td>mayor_10k</td>\n",
       "      <td>2y_a_4y</td>\n",
       "      <td>15p_a_20p</td>\n",
       "      <td>mayor_100k</td>\n",
       "      <td>hasta_20</td>\n",
       "      <td>mayor_10</td>\n",
       "      <td>25_a_30</td>\n",
       "      <td>C</td>\n",
       "      <td>C</td>\n",
       "      <td>20000</td>\n",
       "      <td>2</td>\n",
       "      <td>HIPOTECA</td>\n",
       "      <td>INVERSIONES</td>\n",
       "      <td>N</td>\n",
       "      <td>ACTIVO</td>\n",
       "      <td>M</td>\n",
       "      <td>POSGRADO_COMPLETO</td>\n",
       "      <td>3.0</td>\n",
       "    </tr>\n",
       "    <tr>\n",
       "      <th>3</th>\n",
       "      <td>50_a_75</td>\n",
       "      <td>2k_a_4k</td>\n",
       "      <td>mayor_10k</td>\n",
       "      <td>2y_a_4y</td>\n",
       "      <td>7p_a_15p</td>\n",
       "      <td>mayor_100k</td>\n",
       "      <td>hasta_20</td>\n",
       "      <td>5_a_10</td>\n",
       "      <td>menor_25</td>\n",
       "      <td>D</td>\n",
       "      <td>P</td>\n",
       "      <td>2500</td>\n",
       "      <td>2</td>\n",
       "      <td>PROPIA</td>\n",
       "      <td>EDUCACIÓN</td>\n",
       "      <td>N</td>\n",
       "      <td>ACTIVO</td>\n",
       "      <td>M</td>\n",
       "      <td>POSGRADO_INCOMPLETO</td>\n",
       "      <td>3.0</td>\n",
       "    </tr>\n",
       "    <tr>\n",
       "      <th>4</th>\n",
       "      <td>50_a_75</td>\n",
       "      <td>2k_a_4k</td>\n",
       "      <td>5k_a_10k</td>\n",
       "      <td>mayor_4y</td>\n",
       "      <td>7p_a_15p</td>\n",
       "      <td>mayor_100k</td>\n",
       "      <td>hasta_20</td>\n",
       "      <td>5_a_10</td>\n",
       "      <td>25_a_30</td>\n",
       "      <td>C</td>\n",
       "      <td>P</td>\n",
       "      <td>25000</td>\n",
       "      <td>3</td>\n",
       "      <td>ALQUILER</td>\n",
       "      <td>PERSONAL</td>\n",
       "      <td>N</td>\n",
       "      <td>ACTIVO</td>\n",
       "      <td>M</td>\n",
       "      <td>UNIVERSITARIO_COMPLETO</td>\n",
       "      <td>0.0</td>\n",
       "    </tr>\n",
       "  </tbody>\n",
       "</table>\n",
       "</div>"
      ],
      "text/plain": [
       "  operaciones_ult_12m gastos_ult_12m limite_credito_tc antiguedad_cliente  \\\n",
       "0             50_a_75        2k_a_4k          5k_a_10k            2y_a_4y   \n",
       "1             50_a_75        2k_a_4k         mayor_10k            2y_a_4y   \n",
       "2             50_a_75        2k_a_4k         mayor_10k            2y_a_4y   \n",
       "3             50_a_75        2k_a_4k         mayor_10k            2y_a_4y   \n",
       "4             50_a_75        2k_a_4k          5k_a_10k           mayor_4y   \n",
       "\n",
       "  tasa_interes    ingresos pct_ingreso antiguedad_empleado      edad  \\\n",
       "0     7p_a_15p   hasta_20k     20_a_40             menor_5  menor_25   \n",
       "1    15p_a_20p  mayor_100k    hasta_20              5_a_10   25_a_30   \n",
       "2    15p_a_20p  mayor_100k    hasta_20            mayor_10   25_a_30   \n",
       "3     7p_a_15p  mayor_100k    hasta_20              5_a_10  menor_25   \n",
       "4     7p_a_15p  mayor_100k    hasta_20              5_a_10   25_a_30   \n",
       "\n",
       "  estado_civil_N estado_credito_N  importe_solicitado  duracion_credito  \\\n",
       "0              S                C                4200                 4   \n",
       "1              C                P               18000                 3   \n",
       "2              C                C               20000                 2   \n",
       "3              D                P                2500                 2   \n",
       "4              C                P               25000                 3   \n",
       "\n",
       "  situacion_vivienda objetivo_credito falta_pago estado_cliente genero  \\\n",
       "0             PROPIA         PERSONAL          Y         ACTIVO      F   \n",
       "1           ALQUILER        EDUCACIÓN          N         ACTIVO      M   \n",
       "2           HIPOTECA      INVERSIONES          N         ACTIVO      M   \n",
       "3             PROPIA        EDUCACIÓN          N         ACTIVO      M   \n",
       "4           ALQUILER         PERSONAL          N         ACTIVO      M   \n",
       "\n",
       "            nivel_educativo  personas_a_cargo  \n",
       "0  UNIVERSITARIO_INCOMPLETO               3.0  \n",
       "1    UNIVERSITARIO_COMPLETO               3.0  \n",
       "2         POSGRADO_COMPLETO               3.0  \n",
       "3       POSGRADO_INCOMPLETO               3.0  \n",
       "4    UNIVERSITARIO_COMPLETO               0.0  "
      ]
     },
     "execution_count": 76,
     "metadata": {},
     "output_type": "execute_result"
    }
   ],
   "source": [
    "# Agregar en este listado otros atributos que pudieran discretizarse o transformarse\n",
    "# Lista de columnas a eliminar\n",
    "col_eliminar_final = [\n",
    "    'estado_civil', 'estado_credito', 'antiguedad_empleado', 'edad',\n",
    "    'antiguedad_cliente', 'ingresos', 'pct_ingreso', 'tasa_interes',\n",
    "    'regla_pct_ingresos', 'gastos_ult_12m', 'limite_credito_tc',\n",
    "    'operaciones_ult_12m', 'id_cliente'\n",
    "]\n",
    "\n",
    "# Filtrar solo las columnas que existen en df_integrado\n",
    "col_existentes = [col for col in col_eliminar_final if col in df_integrado.columns]\n",
    "\n",
    "# Eliminar las columnas existentes\n",
    "df_integrado.drop(col_existentes, inplace=True, axis=1)\n",
    "\n",
    "# Concatenar los DataFrames\n",
    "df_final = pd.concat([\n",
    "    operaciones_ult_12m_N, gastos_ult_12m_N, limite_credito_tc_N,\n",
    "    antiguedad_cliente_N, tasa_interes_N, ingresos_N, pct_ingreso_N,\n",
    "    antiguedad_empleados_N, edad_N, estado_civil_N, estado_credito_N,\n",
    "    df_integrado\n",
    "], axis=1)\n",
    "\n",
    "# Mostrar las primeras filas del DataFrame final\n",
    "df_final.head(5)\n",
    "\n"
   ]
  },
  {
   "cell_type": "markdown",
   "metadata": {},
   "source": [
    "Exportación de metadatos"
   ]
  },
  {
   "cell_type": "code",
   "execution_count": 77,
   "metadata": {},
   "outputs": [
    {
     "name": "stderr",
     "output_type": "stream",
     "text": [
      "100%|██████████| 20/20 [00:00<00:00, 323.98it/s]00:00, 21.51it/s, Describe variable: personas_a_cargo]  \n",
      "Summarize dataset: 100%|██████████| 33/33 [00:01<00:00, 20.36it/s, Completed]                                     \n",
      "Generate report structure: 100%|██████████| 1/1 [00:02<00:00,  2.45s/it]\n",
      "Render HTML: 100%|██████████| 1/1 [00:00<00:00,  2.07it/s]\n",
      "Export report to file: 100%|██████████| 1/1 [00:00<?, ?it/s]\n"
     ]
    }
   ],
   "source": [
    "from ydata_profiling import ProfileReport\n",
    "\n",
    "profile = ProfileReport(df_final, title=\"Reporte de preparación de datos - Dataset integrado\")\n",
    "profile.to_file(\"../../docs/reporte_datos_integrados.html\")"
   ]
  },
  {
   "cell_type": "code",
   "execution_count": 78,
   "metadata": {},
   "outputs": [
    {
     "name": "stdout",
     "output_type": "stream",
     "text": [
      "Cantidad de columnas del dataset final: 20\n",
      "Cantidad de filas del dataset final: 4291\n"
     ]
    }
   ],
   "source": [
    "print(f\"Cantidad de columnas del dataset final: {df_final.shape[1]}\")\n",
    "print(f\"Cantidad de filas del dataset final: {df_final.shape[0]}\")"
   ]
  },
  {
   "cell_type": "markdown",
   "metadata": {},
   "source": [
    "Exportación del dataset"
   ]
  },
  {
   "cell_type": "code",
   "execution_count": 79,
   "metadata": {},
   "outputs": [],
   "source": [
    "df_final.to_csv(\"../../data/final/datos_finales.csv\", sep=';', index=False)"
   ]
  },
  {
   "cell_type": "markdown",
   "metadata": {},
   "source": [
    "#### Ajustes para el proceso de clusterización\n",
    "\n",
    "Se realizan las transformaciones propias del proceso de descubrimiento de grupos\n",
    "\n",
    "1. Eliminación de valores nulos"
   ]
  },
  {
   "cell_type": "code",
   "execution_count": 48,
   "metadata": {},
   "outputs": [
    {
     "name": "stdout",
     "output_type": "stream",
     "text": [
      "<class 'pandas.core.frame.DataFrame'>\n",
      "Index: 8899 entries, 0 to 10122\n",
      "Data columns (total 22 columns):\n",
      " #   Column               Non-Null Count  Dtype  \n",
      "---  ------               --------------  -----  \n",
      " 0   id_cliente           8899 non-null   float64\n",
      " 1   edad                 8899 non-null   int64  \n",
      " 2   importe_solicitado   8899 non-null   int64  \n",
      " 3   duracion_credito     8899 non-null   int64  \n",
      " 4   antiguedad_empleado  8899 non-null   float64\n",
      " 5   situacion_vivienda   8899 non-null   object \n",
      " 6   ingresos             8899 non-null   int64  \n",
      " 7   objetivo_credito     8899 non-null   object \n",
      " 8   pct_ingreso          8899 non-null   float64\n",
      " 9   tasa_interes         8899 non-null   float64\n",
      " 10  estado_credito       8899 non-null   int64  \n",
      " 11  falta_pago           8899 non-null   object \n",
      " 12  antiguedad_cliente   8899 non-null   float64\n",
      " 13  estado_civil         8899 non-null   object \n",
      " 14  estado_cliente       8899 non-null   object \n",
      " 15  gastos_ult_12m       8899 non-null   float64\n",
      " 16  genero               8899 non-null   object \n",
      " 17  limite_credito_tc    8899 non-null   float64\n",
      " 18  nivel_educativo      8899 non-null   object \n",
      " 19  nivel_tarjeta        8899 non-null   object \n",
      " 20  operaciones_ult_12m  8899 non-null   float64\n",
      " 21  personas_a_cargo     8899 non-null   float64\n",
      "dtypes: float64(9), int64(5), object(8)\n",
      "memory usage: 1.6+ MB\n"
     ]
    }
   ],
   "source": [
    "# Filtrado de valores nulos\n",
    "df_filtrado = df_integrado_c[(df_integrado_c['tasa_interes'].notnull()) & (df_integrado_c['antiguedad_empleado'].notnull())]\n",
    "df_filtrado.info()"
   ]
  },
  {
   "cell_type": "code",
   "execution_count": 52,
   "metadata": {},
   "outputs": [
    {
     "name": "stderr",
     "output_type": "stream",
     "text": [
      "C:\\Users\\mdlid\\AppData\\Local\\Temp\\ipykernel_24572\\2708100472.py:2: SettingWithCopyWarning: \n",
      "A value is trying to be set on a copy of a slice from a DataFrame\n",
      "\n",
      "See the caveats in the documentation: https://pandas.pydata.org/pandas-docs/stable/user_guide/indexing.html#returning-a-view-versus-a-copy\n",
      "  df_filtrado.drop(columns=eliminar, inplace=True, errors='ignore')\n"
     ]
    },
    {
     "data": {
      "text/html": [
       "<div>\n",
       "<style scoped>\n",
       "    .dataframe tbody tr th:only-of-type {\n",
       "        vertical-align: middle;\n",
       "    }\n",
       "\n",
       "    .dataframe tbody tr th {\n",
       "        vertical-align: top;\n",
       "    }\n",
       "\n",
       "    .dataframe thead th {\n",
       "        text-align: right;\n",
       "    }\n",
       "</style>\n",
       "<table border=\"1\" class=\"dataframe\">\n",
       "  <thead>\n",
       "    <tr style=\"text-align: right;\">\n",
       "      <th></th>\n",
       "      <th>id_cliente</th>\n",
       "      <th>edad</th>\n",
       "      <th>importe_solicitado</th>\n",
       "      <th>duracion_credito</th>\n",
       "      <th>antiguedad_empleado</th>\n",
       "      <th>situacion_vivienda</th>\n",
       "      <th>ingresos</th>\n",
       "      <th>objetivo_credito</th>\n",
       "      <th>pct_ingreso</th>\n",
       "      <th>tasa_interes</th>\n",
       "      <th>...</th>\n",
       "      <th>antiguedad_cliente</th>\n",
       "      <th>estado_civil</th>\n",
       "      <th>estado_cliente</th>\n",
       "      <th>gastos_ult_12m</th>\n",
       "      <th>genero</th>\n",
       "      <th>limite_credito_tc</th>\n",
       "      <th>nivel_educativo</th>\n",
       "      <th>nivel_tarjeta</th>\n",
       "      <th>operaciones_ult_12m</th>\n",
       "      <th>personas_a_cargo</th>\n",
       "    </tr>\n",
       "  </thead>\n",
       "  <tbody>\n",
       "    <tr>\n",
       "      <th>0</th>\n",
       "      <td>713061558.0</td>\n",
       "      <td>22</td>\n",
       "      <td>35000</td>\n",
       "      <td>3</td>\n",
       "      <td>123.0</td>\n",
       "      <td>ALQUILER</td>\n",
       "      <td>59000</td>\n",
       "      <td>PERSONAL</td>\n",
       "      <td>0.59</td>\n",
       "      <td>16.02</td>\n",
       "      <td>...</td>\n",
       "      <td>36.0</td>\n",
       "      <td>CASADO</td>\n",
       "      <td>ACTIVO</td>\n",
       "      <td>1088.0</td>\n",
       "      <td>M</td>\n",
       "      <td>4010.0</td>\n",
       "      <td>UNIVERSITARIO_COMPLETO</td>\n",
       "      <td>Blue</td>\n",
       "      <td>24.0</td>\n",
       "      <td>2.0</td>\n",
       "    </tr>\n",
       "  </tbody>\n",
       "</table>\n",
       "<p>1 rows × 22 columns</p>\n",
       "</div>"
      ],
      "text/plain": [
       "    id_cliente  edad  importe_solicitado  duracion_credito  \\\n",
       "0  713061558.0    22               35000                 3   \n",
       "\n",
       "   antiguedad_empleado situacion_vivienda  ingresos objetivo_credito  \\\n",
       "0                123.0           ALQUILER     59000         PERSONAL   \n",
       "\n",
       "   pct_ingreso  tasa_interes  ...  antiguedad_cliente estado_civil  \\\n",
       "0         0.59         16.02  ...                36.0       CASADO   \n",
       "\n",
       "   estado_cliente gastos_ult_12m genero  limite_credito_tc  \\\n",
       "0          ACTIVO         1088.0      M             4010.0   \n",
       "\n",
       "          nivel_educativo  nivel_tarjeta operaciones_ult_12m personas_a_cargo  \n",
       "0  UNIVERSITARIO_COMPLETO           Blue                24.0              2.0  \n",
       "\n",
       "[1 rows x 22 columns]"
      ]
     },
     "execution_count": 52,
     "metadata": {},
     "output_type": "execute_result"
    }
   ],
   "source": [
    "eliminar = ['regla_pct_ingresos']\n",
    "df_filtrado.drop(columns=eliminar, inplace=True, errors='ignore') \n",
    "df_filtrado.head(1)\n"
   ]
  },
  {
   "cell_type": "markdown",
   "metadata": {},
   "source": [
    "2. Procesamiento de atributos nominales\n",
    "Se realiza una binarización para aquellos métodos que sean incompatibles con datos no numéricos."
   ]
  },
  {
   "cell_type": "code",
   "execution_count": 53,
   "metadata": {},
   "outputs": [
    {
     "data": {
      "text/html": [
       "<div>\n",
       "<style scoped>\n",
       "    .dataframe tbody tr th:only-of-type {\n",
       "        vertical-align: middle;\n",
       "    }\n",
       "\n",
       "    .dataframe tbody tr th {\n",
       "        vertical-align: top;\n",
       "    }\n",
       "\n",
       "    .dataframe thead th {\n",
       "        text-align: right;\n",
       "    }\n",
       "</style>\n",
       "<table border=\"1\" class=\"dataframe\">\n",
       "  <thead>\n",
       "    <tr style=\"text-align: right;\">\n",
       "      <th></th>\n",
       "      <th>id_cliente</th>\n",
       "      <th>edad</th>\n",
       "      <th>importe_solicitado</th>\n",
       "      <th>duracion_credito</th>\n",
       "      <th>antiguedad_empleado</th>\n",
       "      <th>ingresos</th>\n",
       "      <th>pct_ingreso</th>\n",
       "      <th>tasa_interes</th>\n",
       "      <th>estado_credito</th>\n",
       "      <th>antiguedad_cliente</th>\n",
       "      <th>...</th>\n",
       "      <th>nivel_educativo_DESCONOCIDO</th>\n",
       "      <th>nivel_educativo_POSGRADO_COMPLETO</th>\n",
       "      <th>nivel_educativo_POSGRADO_INCOMPLETO</th>\n",
       "      <th>nivel_educativo_SECUNDARIO_COMPLETO</th>\n",
       "      <th>nivel_educativo_UNIVERSITARIO_COMPLETO</th>\n",
       "      <th>nivel_educativo_UNIVERSITARIO_INCOMPLETO</th>\n",
       "      <th>nivel_tarjeta_Blue</th>\n",
       "      <th>nivel_tarjeta_Gold</th>\n",
       "      <th>nivel_tarjeta_Platinum</th>\n",
       "      <th>nivel_tarjeta_Silver</th>\n",
       "    </tr>\n",
       "  </thead>\n",
       "  <tbody>\n",
       "    <tr>\n",
       "      <th>0</th>\n",
       "      <td>713061558.0</td>\n",
       "      <td>22</td>\n",
       "      <td>35000</td>\n",
       "      <td>3</td>\n",
       "      <td>123.0</td>\n",
       "      <td>59000</td>\n",
       "      <td>0.59</td>\n",
       "      <td>16.02</td>\n",
       "      <td>1</td>\n",
       "      <td>36.0</td>\n",
       "      <td>...</td>\n",
       "      <td>False</td>\n",
       "      <td>False</td>\n",
       "      <td>False</td>\n",
       "      <td>False</td>\n",
       "      <td>True</td>\n",
       "      <td>False</td>\n",
       "      <td>True</td>\n",
       "      <td>False</td>\n",
       "      <td>False</td>\n",
       "      <td>False</td>\n",
       "    </tr>\n",
       "  </tbody>\n",
       "</table>\n",
       "<p>1 rows × 44 columns</p>\n",
       "</div>"
      ],
      "text/plain": [
       "    id_cliente  edad  importe_solicitado  duracion_credito  \\\n",
       "0  713061558.0    22               35000                 3   \n",
       "\n",
       "   antiguedad_empleado  ingresos  pct_ingreso  tasa_interes  estado_credito  \\\n",
       "0                123.0     59000         0.59         16.02               1   \n",
       "\n",
       "   antiguedad_cliente  ...  nivel_educativo_DESCONOCIDO  \\\n",
       "0                36.0  ...                        False   \n",
       "\n",
       "   nivel_educativo_POSGRADO_COMPLETO  nivel_educativo_POSGRADO_INCOMPLETO  \\\n",
       "0                              False                                False   \n",
       "\n",
       "   nivel_educativo_SECUNDARIO_COMPLETO  \\\n",
       "0                                False   \n",
       "\n",
       "   nivel_educativo_UNIVERSITARIO_COMPLETO  \\\n",
       "0                                    True   \n",
       "\n",
       "   nivel_educativo_UNIVERSITARIO_INCOMPLETO  nivel_tarjeta_Blue  \\\n",
       "0                                     False                True   \n",
       "\n",
       "   nivel_tarjeta_Gold  nivel_tarjeta_Platinum  nivel_tarjeta_Silver  \n",
       "0               False                   False                 False  \n",
       "\n",
       "[1 rows x 44 columns]"
      ]
     },
     "execution_count": 53,
     "metadata": {},
     "output_type": "execute_result"
    }
   ],
   "source": [
    "data = pd.get_dummies(df_filtrado)\n",
    "data.head(1)"
   ]
  },
  {
   "cell_type": "markdown",
   "metadata": {},
   "source": [
    "Se vuelve a generar un reporte para observar los metadatos:"
   ]
  },
  {
   "cell_type": "code",
   "execution_count": 55,
   "metadata": {},
   "outputs": [
    {
     "data": {
      "text/html": [
       "\n",
       "            <div>\n",
       "                <ins><a href=\"https://ydata.ai/register\">Upgrade to ydata-sdk</a></ins>\n",
       "                <p>\n",
       "                    Improve your data and profiling with ydata-sdk, featuring data quality scoring, redundancy detection, outlier identification, text validation, and synthetic data generation.\n",
       "                </p>\n",
       "            </div>\n",
       "            "
      ],
      "text/plain": [
       "<IPython.core.display.HTML object>"
      ]
     },
     "metadata": {},
     "output_type": "display_data"
    },
    {
     "name": "stderr",
     "output_type": "stream",
     "text": [
      "100%|██████████| 44/44 [00:00<00:00, 838.39it/s]<00:00, 119.90it/s, Describe variable: nivel_tarjeta_Silver]                   \n",
      "Summarize dataset: 100%|██████████| 197/197 [00:15<00:00, 13.07it/s, Completed]                                       \n",
      "Generate report structure: 100%|██████████| 1/1 [00:03<00:00,  3.51s/it]\n",
      "Render HTML: 100%|██████████| 1/1 [00:03<00:00,  3.61s/it]\n",
      "Export report to file: 100%|██████████| 1/1 [00:00<00:00, 30.28it/s]\n"
     ]
    }
   ],
   "source": [
    "from ydata_profiling import ProfileReport\n",
    "\n",
    "profile = ProfileReport(data, title=\"Reporte de preparación de datos - Dataset para clusterización\")\n",
    "profile.to_file(\"../../docs/reporte_datos_integrados_clusterizacion.html\")"
   ]
  },
  {
   "cell_type": "code",
   "execution_count": 56,
   "metadata": {},
   "outputs": [
    {
     "name": "stdout",
     "output_type": "stream",
     "text": [
      "Cantidad de columnas del dataset final - clusterización: 44\n",
      "Cantidad de filas del dataset final - clusterización: 8899\n"
     ]
    }
   ],
   "source": [
    "print(f\"Cantidad de columnas del dataset final - clusterización: {data.shape[1]}\")\n",
    "print(f\"Cantidad de filas del dataset final - clusterización: {data.shape[0]}\")"
   ]
  },
  {
   "cell_type": "code",
   "execution_count": 57,
   "metadata": {},
   "outputs": [],
   "source": [
    "data.to_csv(\"../../data/final/datos_finales_clusterizacion.csv\", sep=';', index=False)"
   ]
  }
 ],
 "metadata": {
  "kernelspec": {
   "display_name": "venv",
   "language": "python",
   "name": "python3"
  },
  "language_info": {
   "codemirror_mode": {
    "name": "ipython",
    "version": 3
   },
   "file_extension": ".py",
   "mimetype": "text/x-python",
   "name": "python",
   "nbconvert_exporter": "python",
   "pygments_lexer": "ipython3",
   "version": "3.11.9"
  }
 },
 "nbformat": 4,
 "nbformat_minor": 2
}
