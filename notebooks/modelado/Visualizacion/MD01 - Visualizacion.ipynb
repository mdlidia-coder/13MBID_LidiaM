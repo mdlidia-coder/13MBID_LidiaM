{
 "cells": [
  {
   "cell_type": "markdown",
   "metadata": {},
   "source": [
    "## Máster en Big Data y Data Science\n",
    "\n",
    "### Metodologías de gestión y diseño de proyectos de big data\n",
    "\n",
    "#### AP2 - Visualización de los datos\n",
    "\n",
    "---\n",
    "\n",
    "En esta libreta se generan los modelos de visualización (gráficos) sobre los datasets \n",
    "del escenario para su posterior integración en la herramienta a utilizar. \n",
    "\n",
    "---"
   ]
  },
  {
   "cell_type": "code",
   "execution_count": 32,
   "metadata": {},
   "outputs": [
    {
     "name": "stdout",
     "output_type": "stream",
     "text": [
      "Renderizador actual: vscode\n"
     ]
    }
   ],
   "source": [
    "import plotly.io as pio\n",
    "print(f\"Renderizador actual: {pio.renderers.default}\")\n",
    "pio.renderers.default = \"browser\"\n"
   ]
  },
  {
   "cell_type": "markdown",
   "metadata": {},
   "source": [
    "### Nota sobre el cambio de renderizador en Plotly\n",
    "\n",
    "Durante la ejecución de los gráficos en **Visual Studio Code (VS Code)** utilizando **Plotly**, se presentó un error relacionado con el renderizador `\"vscode\"`. Este problema impidió la correcta visualización de los gráficos dentro del entorno de VS Code.\n",
    "\n",
    "#### Motivo del cambio\n",
    "\n",
    "El renderizador `\"vscode\"` depende de la integración de **Jupyter Notebook** dentro de VS Code, y puede fallar si:\n",
    "\n",
    "- La extensión de **Jupyter** en VS Code no está instalada o configurada correctamente.\n",
    "- Hay conflictos con la versión de **`nbformat`** o **`ipython`**.\n",
    "- Se ejecuta el código en un **script `.py`** en lugar de un **Notebook `.ipynb`**."
   ]
  },
  {
   "cell_type": "code",
   "execution_count": 43,
   "metadata": {},
   "outputs": [],
   "source": [
    "# Importación de librerías\n",
    "\n",
    "import pandas as pd\n",
    "# En esta línea se podría producir un error, se debe instalar plotly\n",
    "import plotly.express as px\n",
    "import plotly.graph_objects as go"
   ]
  },
  {
   "cell_type": "code",
   "execution_count": 44,
   "metadata": {},
   "outputs": [
    {
     "name": "stdout",
     "output_type": "stream",
     "text": [
      "5.10.4\n"
     ]
    }
   ],
   "source": [
    "import nbformat\n",
    "print(nbformat.__version__)"
   ]
  },
  {
   "cell_type": "markdown",
   "metadata": {},
   "source": [
    "----\n",
    "\n",
    "##### Lectura del dataset"
   ]
  },
  {
   "cell_type": "code",
   "execution_count": 45,
   "metadata": {},
   "outputs": [
    {
     "data": {
      "text/html": [
       "<div>\n",
       "<style scoped>\n",
       "    .dataframe tbody tr th:only-of-type {\n",
       "        vertical-align: middle;\n",
       "    }\n",
       "\n",
       "    .dataframe tbody tr th {\n",
       "        vertical-align: top;\n",
       "    }\n",
       "\n",
       "    .dataframe thead th {\n",
       "        text-align: right;\n",
       "    }\n",
       "</style>\n",
       "<table border=\"1\" class=\"dataframe\">\n",
       "  <thead>\n",
       "    <tr style=\"text-align: right;\">\n",
       "      <th></th>\n",
       "      <th>operaciones_ult_12m</th>\n",
       "      <th>gastos_ult_12m</th>\n",
       "      <th>limite_credito_tc</th>\n",
       "      <th>antiguedad_cliente</th>\n",
       "      <th>tasa_interes</th>\n",
       "      <th>ingresos</th>\n",
       "      <th>pct_ingreso</th>\n",
       "      <th>antiguedad_empleado</th>\n",
       "      <th>edad</th>\n",
       "      <th>estado_civil_N</th>\n",
       "      <th>estado_credito_N</th>\n",
       "      <th>importe_solicitado</th>\n",
       "      <th>duracion_credito</th>\n",
       "      <th>situacion_vivienda</th>\n",
       "      <th>objetivo_credito</th>\n",
       "      <th>falta_pago</th>\n",
       "      <th>estado_cliente</th>\n",
       "      <th>genero</th>\n",
       "      <th>nivel_educativo</th>\n",
       "      <th>personas_a_cargo</th>\n",
       "    </tr>\n",
       "  </thead>\n",
       "  <tbody>\n",
       "    <tr>\n",
       "      <th>0</th>\n",
       "      <td>50_a_75</td>\n",
       "      <td>2k_a_4k</td>\n",
       "      <td>5k_a_10k</td>\n",
       "      <td>2y_a_4y</td>\n",
       "      <td>7p_a_15p</td>\n",
       "      <td>hasta_20k</td>\n",
       "      <td>20_a_40</td>\n",
       "      <td>menor_5</td>\n",
       "      <td>menor_25</td>\n",
       "      <td>S</td>\n",
       "      <td>C</td>\n",
       "      <td>4200</td>\n",
       "      <td>4</td>\n",
       "      <td>PROPIA</td>\n",
       "      <td>PERSONAL</td>\n",
       "      <td>Y</td>\n",
       "      <td>ACTIVO</td>\n",
       "      <td>F</td>\n",
       "      <td>UNIVERSITARIO_INCOMPLETO</td>\n",
       "      <td>3.0</td>\n",
       "    </tr>\n",
       "    <tr>\n",
       "      <th>1</th>\n",
       "      <td>50_a_75</td>\n",
       "      <td>2k_a_4k</td>\n",
       "      <td>mayor_10k</td>\n",
       "      <td>2y_a_4y</td>\n",
       "      <td>15p_a_20p</td>\n",
       "      <td>mayor_100k</td>\n",
       "      <td>hasta_20</td>\n",
       "      <td>5_a_10</td>\n",
       "      <td>25_a_30</td>\n",
       "      <td>C</td>\n",
       "      <td>P</td>\n",
       "      <td>18000</td>\n",
       "      <td>3</td>\n",
       "      <td>ALQUILER</td>\n",
       "      <td>EDUCACIÓN</td>\n",
       "      <td>N</td>\n",
       "      <td>ACTIVO</td>\n",
       "      <td>M</td>\n",
       "      <td>UNIVERSITARIO_COMPLETO</td>\n",
       "      <td>3.0</td>\n",
       "    </tr>\n",
       "    <tr>\n",
       "      <th>2</th>\n",
       "      <td>50_a_75</td>\n",
       "      <td>2k_a_4k</td>\n",
       "      <td>mayor_10k</td>\n",
       "      <td>2y_a_4y</td>\n",
       "      <td>15p_a_20p</td>\n",
       "      <td>mayor_100k</td>\n",
       "      <td>hasta_20</td>\n",
       "      <td>mayor_10</td>\n",
       "      <td>25_a_30</td>\n",
       "      <td>C</td>\n",
       "      <td>C</td>\n",
       "      <td>20000</td>\n",
       "      <td>2</td>\n",
       "      <td>HIPOTECA</td>\n",
       "      <td>INVERSIONES</td>\n",
       "      <td>N</td>\n",
       "      <td>ACTIVO</td>\n",
       "      <td>M</td>\n",
       "      <td>POSGRADO_COMPLETO</td>\n",
       "      <td>3.0</td>\n",
       "    </tr>\n",
       "    <tr>\n",
       "      <th>3</th>\n",
       "      <td>50_a_75</td>\n",
       "      <td>2k_a_4k</td>\n",
       "      <td>mayor_10k</td>\n",
       "      <td>2y_a_4y</td>\n",
       "      <td>7p_a_15p</td>\n",
       "      <td>mayor_100k</td>\n",
       "      <td>hasta_20</td>\n",
       "      <td>5_a_10</td>\n",
       "      <td>menor_25</td>\n",
       "      <td>D</td>\n",
       "      <td>P</td>\n",
       "      <td>2500</td>\n",
       "      <td>2</td>\n",
       "      <td>PROPIA</td>\n",
       "      <td>EDUCACIÓN</td>\n",
       "      <td>N</td>\n",
       "      <td>ACTIVO</td>\n",
       "      <td>M</td>\n",
       "      <td>POSGRADO_INCOMPLETO</td>\n",
       "      <td>3.0</td>\n",
       "    </tr>\n",
       "    <tr>\n",
       "      <th>4</th>\n",
       "      <td>50_a_75</td>\n",
       "      <td>2k_a_4k</td>\n",
       "      <td>5k_a_10k</td>\n",
       "      <td>mayor_4y</td>\n",
       "      <td>7p_a_15p</td>\n",
       "      <td>mayor_100k</td>\n",
       "      <td>hasta_20</td>\n",
       "      <td>5_a_10</td>\n",
       "      <td>25_a_30</td>\n",
       "      <td>C</td>\n",
       "      <td>P</td>\n",
       "      <td>25000</td>\n",
       "      <td>3</td>\n",
       "      <td>ALQUILER</td>\n",
       "      <td>PERSONAL</td>\n",
       "      <td>N</td>\n",
       "      <td>ACTIVO</td>\n",
       "      <td>M</td>\n",
       "      <td>UNIVERSITARIO_COMPLETO</td>\n",
       "      <td>0.0</td>\n",
       "    </tr>\n",
       "  </tbody>\n",
       "</table>\n",
       "</div>"
      ],
      "text/plain": [
       "  operaciones_ult_12m gastos_ult_12m limite_credito_tc antiguedad_cliente  \\\n",
       "0             50_a_75        2k_a_4k          5k_a_10k            2y_a_4y   \n",
       "1             50_a_75        2k_a_4k         mayor_10k            2y_a_4y   \n",
       "2             50_a_75        2k_a_4k         mayor_10k            2y_a_4y   \n",
       "3             50_a_75        2k_a_4k         mayor_10k            2y_a_4y   \n",
       "4             50_a_75        2k_a_4k          5k_a_10k           mayor_4y   \n",
       "\n",
       "  tasa_interes    ingresos pct_ingreso antiguedad_empleado      edad  \\\n",
       "0     7p_a_15p   hasta_20k     20_a_40             menor_5  menor_25   \n",
       "1    15p_a_20p  mayor_100k    hasta_20              5_a_10   25_a_30   \n",
       "2    15p_a_20p  mayor_100k    hasta_20            mayor_10   25_a_30   \n",
       "3     7p_a_15p  mayor_100k    hasta_20              5_a_10  menor_25   \n",
       "4     7p_a_15p  mayor_100k    hasta_20              5_a_10   25_a_30   \n",
       "\n",
       "  estado_civil_N estado_credito_N  importe_solicitado  duracion_credito  \\\n",
       "0              S                C                4200                 4   \n",
       "1              C                P               18000                 3   \n",
       "2              C                C               20000                 2   \n",
       "3              D                P                2500                 2   \n",
       "4              C                P               25000                 3   \n",
       "\n",
       "  situacion_vivienda objetivo_credito falta_pago estado_cliente genero  \\\n",
       "0             PROPIA         PERSONAL          Y         ACTIVO      F   \n",
       "1           ALQUILER        EDUCACIÓN          N         ACTIVO      M   \n",
       "2           HIPOTECA      INVERSIONES          N         ACTIVO      M   \n",
       "3             PROPIA        EDUCACIÓN          N         ACTIVO      M   \n",
       "4           ALQUILER         PERSONAL          N         ACTIVO      M   \n",
       "\n",
       "            nivel_educativo  personas_a_cargo  \n",
       "0  UNIVERSITARIO_INCOMPLETO               3.0  \n",
       "1    UNIVERSITARIO_COMPLETO               3.0  \n",
       "2         POSGRADO_COMPLETO               3.0  \n",
       "3       POSGRADO_INCOMPLETO               3.0  \n",
       "4    UNIVERSITARIO_COMPLETO               0.0  "
      ]
     },
     "execution_count": 45,
     "metadata": {},
     "output_type": "execute_result"
    }
   ],
   "source": [
    "df = pd.read_csv(\"../../../data/final/datos_finales.csv\", sep=\";\")\n",
    "df.head(5)"
   ]
  },
  {
   "cell_type": "markdown",
   "metadata": {},
   "source": [
    "----\n",
    "\n",
    "##### Definición de gráficos de interés"
   ]
  },
  {
   "cell_type": "code",
   "execution_count": 46,
   "metadata": {},
   "outputs": [],
   "source": [
    "# Cantidad de créditos por objetivo del mismo\n",
    "\n",
    "creditos_x_objetivo = px.histogram(df, x='objetivo_credito', \n",
    "                                   title='Conteo de créditos por objetivo')\n",
    "creditos_x_objetivo.update_layout(xaxis_title='Objetivo del crédito', yaxis_title='Cantidad')"
   ]
  },
  {
   "cell_type": "code",
   "execution_count": 47,
   "metadata": {},
   "outputs": [],
   "source": [
    "# Histograma de los importes de créditos otorgados\n",
    "\n",
    "histograma_importes = px.histogram(df, x='importe_solicitado', nbins=10, title='Importes solicitados en créditos')\n",
    "histograma_importes.update_layout(xaxis_title='Importe solicitado', yaxis_title='Cantidad')"
   ]
  },
  {
   "cell_type": "code",
   "execution_count": 48,
   "metadata": {},
   "outputs": [],
   "source": [
    "# Conteo de ocurrencias por estado\n",
    "estado_credito_counts = df['estado_credito_N'].value_counts()\n",
    "\n",
    "# Gráfico de torta de estos valores\n",
    "fig = go.Figure(data=[go.Pie(labels=estado_credito_counts.index, values=estado_credito_counts)])\n",
    "fig.update_layout(title_text='Distribución de créditos por estado registrado')\n",
    "fig.show()"
   ]
  },
  {
   "cell_type": "code",
   "execution_count": 49,
   "metadata": {},
   "outputs": [],
   "source": [
    "# Conteo de ocurrencias por caso\n",
    "falta_pago_counts = df['falta_pago'].value_counts()\n",
    "\n",
    "# Create a Pie chart\n",
    "fig = go.Figure(data=[go.Pie(labels=falta_pago_counts.index, values=falta_pago_counts)])\n",
    "fig.update_layout(title_text='Distribución de créditos en función de registro de mora')\n",
    "fig.show()"
   ]
  },
  {
   "cell_type": "code",
   "execution_count": 50,
   "metadata": {
    "vscode": {
     "languageId": "markdown"
    }
   },
   "outputs": [],
   "source": [
    "# Gráfico de barras apiladas: Comparar la distribución de créditos por estado y objetivo\n",
    "barras_apiladas = px.histogram(df, x='objetivo_credito', color='estado_credito_N', \n",
    "                               title='Distribución de créditos por estado y objetivo',\n",
    "                               barmode='stack')\n",
    "barras_apiladas.update_layout(xaxis_title='Objetivo del crédito', yaxis_title='Cantidad')\n",
    "barras_apiladas.show()"
   ]
  },
  {
   "cell_type": "code",
   "execution_count": 51,
   "metadata": {},
   "outputs": [],
   "source": [
    "# Definir el orden personalizado\n",
    "orden_antiguedad = ['menor_2y', '2y_a_4y', 'mayor_4y']\n",
    "\n",
    "# Ordenar los datos según el orden personalizado\n",
    "df_ordenado = df.groupby('antiguedad_cliente')['importe_solicitado'].mean().reset_index()\n",
    "df_ordenado['antiguedad_cliente'] = pd.Categorical(df_ordenado['antiguedad_cliente'], categories=orden_antiguedad, ordered=True)\n",
    "df_ordenado = df_ordenado.sort_values('antiguedad_cliente')\n",
    "\n",
    "# Crear el gráfico de líneas\n",
    "lineas_importes_antiguedad = px.line(df_ordenado, x='antiguedad_cliente', y='importe_solicitado',\n",
    "                                     title='Evolución de los importes solicitados por antigüedad del cliente')\n",
    "lineas_importes_antiguedad.update_layout(xaxis_title='Antigüedad del cliente', yaxis_title='Importe solicitado promedio')\n",
    "lineas_importes_antiguedad.show()"
   ]
  },
  {
   "cell_type": "markdown",
   "metadata": {},
   "source": [
    "Otros gráficos a implementar:\n",
    "\n",
    "1. Distribución de los importes solicitados (`importe_solicitado`) por objetivo del crédito (`objetivo_credito`) en un gráfico de cajas.\n",
    "2. Relación entre el importe solicitado (`importe_solicitado`) con la duración del crédito (`duracion_credito`), coloreado por estado del crédito (`estado_credito_N`) en un gráfico de dispersión.\n",
    "3. Análisis de la correlación entre variables como `importe_solicitado`, `duracion_credito`, y `personas_a_cargo` en un mapa de calor.\n",
    "\n",
    "Entre otros..."
   ]
  },
  {
   "cell_type": "markdown",
   "metadata": {},
   "source": [
    "#### Gráficos obligatorios"
   ]
  },
  {
   "cell_type": "code",
   "execution_count": 53,
   "metadata": {},
   "outputs": [],
   "source": [
    "\n",
    "# 1. Gráfico de cajas: Distribución de los importes solicitados por objetivo del crédito\n",
    "fig_box = px.box(df, x='objetivo_credito', y='importe_solicitado', title='Distribución de importes solicitados por objetivo del crédito')\n",
    "fig_box.update_layout(xaxis_title='Objetivo del crédito', yaxis_title='Importe solicitado')\n",
    "fig_box.show()\n"
   ]
  },
  {
   "cell_type": "code",
   "execution_count": 54,
   "metadata": {},
   "outputs": [],
   "source": [
    "# 2. Gráfico de dispersión: Relación entre importe solicitado y duración del crédito, coloreado por estado del crédito\n",
    "fig_scatter_credito = px.scatter(df, x='duracion_credito', y='importe_solicitado', color='estado_credito_N',\n",
    "                                 title='Relación entre importe solicitado y duración del crédito')\n",
    "fig_scatter_credito.update_layout(xaxis_title='Duración del crédito (meses)', yaxis_title='Importe solicitado')\n",
    "fig_scatter_credito.show()\n"
   ]
  },
  {
   "cell_type": "code",
   "execution_count": 55,
   "metadata": {},
   "outputs": [
    {
     "data": {
      "image/png": "[encoded data removed]",
      "text/plain": [
       "<Figure size 800x600 with 2 Axes>"
      ]
     },
     "metadata": {},
     "output_type": "display_data"
    }
   ],
   "source": [
    "# 3. Mapa de calor: Correlación entre importe solicitado, duración del crédito y personas a cargo\n",
    "import seaborn as sns\n",
    "import matplotlib.pyplot as plt\n",
    "\n",
    "# Seleccionar las variables numéricas relevantes\n",
    "corr_matrix = df[['importe_solicitado', 'duracion_credito', 'personas_a_cargo']].corr()\n",
    "\n",
    "# Crear el mapa de calor\n",
    "plt.figure(figsize=(8, 6))\n",
    "sns.heatmap(corr_matrix, annot=True, cmap='coolwarm', fmt=\".2f\")\n",
    "plt.title('Mapa de calor de correlación entre variables')\n",
    "plt.show()"
   ]
  },
  {
   "cell_type": "markdown",
   "metadata": {},
   "source": [
    "##### Gráficos estudiante"
   ]
  },
  {
   "cell_type": "code",
   "execution_count": 58,
   "metadata": {},
   "outputs": [],
   "source": [
    "# 4. Gráfico de dispersión: Relación entre ingresos y límite de crédito\n",
    "fig_scatter = px.scatter(df, x='ingresos', y='limite_credito_tc', color='estado_credito_N',\n",
    "                         title='Relación entre ingresos y límite de crédito')\n",
    "fig_scatter.update_layout(xaxis_title='Ingresos', yaxis_title='Límite de crédito')\n",
    "fig_scatter.show()\n"
   ]
  },
  {
   "cell_type": "code",
   "execution_count": 59,
   "metadata": {},
   "outputs": [],
   "source": [
    "# 5. Histograma: Distribución de tasas de interés\n",
    "fig_hist = px.histogram(df, x='tasa_interes', nbins=20, title='Distribución de tasas de interés')\n",
    "fig_hist.update_layout(xaxis_title='Tasa de interés (%)', yaxis_title='Cantidad de créditos')\n",
    "fig_hist.show()\n"
   ]
  }
 ],
 "metadata": {
  "kernelspec": {
   "display_name": "venv",
   "language": "python",
   "name": "python3"
  },
  "language_info": {
   "codemirror_mode": {
    "name": "ipython",
    "version": 3
   },
   "file_extension": ".py",
   "mimetype": "text/x-python",
   "name": "python",
   "nbconvert_exporter": "python",
   "pygments_lexer": "ipython3",
   "version": "3.11.9"
  }
 },
 "nbformat": 4,
 "nbformat_minor": 2
}
